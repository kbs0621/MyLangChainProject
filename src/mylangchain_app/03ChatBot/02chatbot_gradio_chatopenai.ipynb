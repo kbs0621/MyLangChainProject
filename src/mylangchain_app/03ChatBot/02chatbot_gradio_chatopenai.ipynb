{
 "cells": [
  {
   "cell_type": "markdown",
   "metadata": {
    "id": "_pyLTgWwvQhV"
   },
   "source": [
    "그라디오 챗봇와 랭체인 LLM 연동하기"
   ]
  },
  {
   "cell_type": "code",
   "execution_count": null,
   "metadata": {
    "colab": {
     "base_uri": "https://localhost:8080/"
    },
    "executionInfo": {
     "elapsed": 29624,
     "status": "ok",
     "timestamp": 1739071493071,
     "user": {
      "displayName": "Myung Sook Baek",
      "userId": "06392624545902733911"
     },
     "user_tz": -540
    },
    "id": "mho6mQWYvUle",
    "outputId": "05496f39-0f87-447e-d46a-0edbf9566171"
   },
   "outputs": [],
   "source": [
    "# 그라디오 라이브러리를 설치합니다.\n",
    "#poetry add gradio \n",
    "# 랭체인 라이브러리를 설치합니다.\n",
    "#poetry add langchain \n",
    "# 랭체인 OpenAI 연동 라이브러리를 설치합니다.\n",
    "#poetry add langchain-openai"
   ]
  },
  {
   "cell_type": "markdown",
   "metadata": {},
   "source": [
    "#### LangChain의 ChatOpenAI가 환경 변수를 자동으로 로드하는 방식\n",
    "* load_dotenv()를 실행하면 .env 파일에 있는 환경 변수가 시스템 환경 변수로 등록됨\n",
    "* LangChain의 ChatOpenAI는 api_key=None일 때 os.getenv(\"OPENAI_API_KEY\")를 자동으로 불러옴\n",
    "* 따라서 api_key를 명시적으로 설정하지 않아도 API 키가 자동으로 적용됨"
   ]
  },
  {
   "cell_type": "code",
   "execution_count": 1,
   "metadata": {
    "executionInfo": {
     "elapsed": 9,
     "status": "ok",
     "timestamp": 1739073587961,
     "user": {
      "displayName": "Myung Sook Baek",
      "userId": "06392624545902733911"
     },
     "user_tz": -540
    },
    "id": "1eHQ5ThX3KHP"
   },
   "outputs": [
    {
     "name": "stdout",
     "output_type": "stream",
     "text": [
      "gsk_\n"
     ]
    }
   ],
   "source": [
    "from dotenv import load_dotenv\n",
    "import os\n",
    "\n",
    "# .env 파일을 불러와서 환경 변수로 설정\n",
    "load_dotenv()\n",
    "\n",
    "OPENAI_API_KEY = os.getenv(\"OPENAI_API_KEY\")\n",
    "print(OPENAI_API_KEY[:4])"
   ]
  },
  {
   "cell_type": "code",
   "execution_count": 3,
   "metadata": {},
   "outputs": [
    {
     "name": "stdout",
     "output_type": "stream",
     "text": [
      "0.3.27\n"
     ]
    }
   ],
   "source": [
    "import langchain\n",
    "\n",
    "print(langchain.__version__)"
   ]
  },
  {
   "cell_type": "code",
   "execution_count": 2,
   "metadata": {
    "colab": {
     "base_uri": "https://localhost:8080/"
    },
    "executionInfo": {
     "elapsed": 4273,
     "status": "ok",
     "timestamp": 1739073595715,
     "user": {
      "displayName": "Myung Sook Baek",
      "userId": "06392624545902733911"
     },
     "user_tz": -540
    },
    "id": "3_Wj7jaE4giS",
    "outputId": "b9e33cb5-b7d6-4080-89eb-7722641b7f50"
   },
   "outputs": [
    {
     "name": "stderr",
     "output_type": "stream",
     "text": [
      "c:\\Users\\user\\AppData\\Local\\pypoetry\\Cache\\virtualenvs\\mylangchain-app-SBe-Yh6W-py3.12\\Lib\\site-packages\\tqdm\\auto.py:21: TqdmWarning: IProgress not found. Please update jupyter and ipywidgets. See https://ipywidgets.readthedocs.io/en/stable/user_install.html\n",
      "  from .autonotebook import tqdm as notebook_tqdm\n"
     ]
    },
    {
     "name": "stdout",
     "output_type": "stream",
     "text": [
      "content='파이썬(Python)은 1991년 네덜란드의 개빈 반 로섬(Guido van Rossum)이 발표한 고급 프로그래밍 언어입니다. 이름은 그가 좋아했던 코미디 단체 ‘Monty Python’에서 따왔습니다.\\n\\n### 핵심 특징\\n1. **문법이 단순하고 가독성이 높다**  \\n   들여쓰기(indent)로 블록을 구분하며, C/C++이나 Java보다 코드가 짧고 읽기 쉽습니다.\\n\\n2. **인터프리터 언어**  \\n   소스를 바로 한 줄씩 실행하며, 별도의 컴파일 과정이 필요 없어 테스트·디버깅이 빠릅니다.\\n\\n3. **크로스 플랫폼**  \\n   Windows·macOS·Linux 등 대부분의 운영체제에서 동일한 코드로 실행됩니다.\\n\\n4. **방대한 표준 라이브러리·생태계**  \\n   웹(Flask, Django), 데이터 분석(NumPy, pandas), 머신러닝(PyTorch, TensorFlow), 자동화·스크래핑(Selenium, Scrapy) 등 거의 모든 분야에 라이브러리가 준비돼 있습니다.\\n\\n5. **동적 타이핑**  \\n   변수에 타입을 미리 선언하지 않아도 되어 개발 속도가 빠르지만, 대규모 코드에서는 타입 힌트(typing)를 활용해 안정성을 높일 수 있습니다.\\n\\n6. **확장성**  \\n   C/C++로 작성한 모듈을 쉽게 연결할 수 있어, 병목이 되는 부분은 고속화하면서도 전체 생산성을 유지할 수 있습니다.\\n\\n### 버전\\n- Python 2.x: 2020년 공식 지원 종료  \\n- Python 3.x: 현재 권장 버전(3.12, 3.13 등)\\n\\n### 간단한 예제\\n```python\\n# 화씨를 섭씨로 변환\\nf = float(input(\"화씨 온도: \"))\\nc = (f - 32) * 5 / 9\\nprint(f\"{f:.1f}°F = {c:.1f}°C\")\\n```\\n\\n### 활용 분야\\n- 웹·API 서버 개발\\n- 데이터 분석·시각화\\n- 인공지능·딥러닝\\n- 자동화 스크립트·DevOps\\n- IoT·임베디드(라즈베리파이 등)\\n- 게임·데스크톱 앱(Kivy, PyQt 등)\\n\\n### 요약\\n“쉽게 읽고 빠르게 쓸 수 있는” 언어로, 초보자도 문법 장벽 없이 프로그래밍의 핵심 개념에 집중할 수 있고, 전문가도 산업 전반에 걸쳐 고성능 애플리케이션을 생산할 수 있게 해줍니다.' additional_kwargs={'refusal': None} response_metadata={'token_usage': {'completion_tokens': 755, 'prompt_tokens': 34, 'total_tokens': 789, 'completion_tokens_details': None, 'prompt_tokens_details': None, 'queue_time': 0.053557738, 'prompt_time': 0.211715073, 'completion_time': 2.579150067, 'total_time': 2.79086514}, 'model_name': 'moonshotai/kimi-k2-instruct-0905', 'system_fingerprint': 'fp_b8565bb333', 'id': 'chatcmpl-a6e915dc-4b2a-40a8-8bc7-8b9968864d1a', 'service_tier': 'on_demand', 'finish_reason': 'stop', 'logprobs': None} id='run--ed7f912e-f715-4df8-9346-5d87cbc8ab44-0' usage_metadata={'input_tokens': 34, 'output_tokens': 755, 'total_tokens': 789, 'input_token_details': {}, 'output_token_details': {}}\n",
      "파이썬(Python)은 1991년 네덜란드의 개빈 반 로섬(Guido van Rossum)이 발표한 고급 프로그래밍 언어입니다. 이름은 그가 좋아했던 코미디 단체 ‘Monty Python’에서 따왔습니다.\n",
      "\n",
      "### 핵심 특징\n",
      "1. **문법이 단순하고 가독성이 높다**  \n",
      "   들여쓰기(indent)로 블록을 구분하며, C/C++이나 Java보다 코드가 짧고 읽기 쉽습니다.\n",
      "\n",
      "2. **인터프리터 언어**  \n",
      "   소스를 바로 한 줄씩 실행하며, 별도의 컴파일 과정이 필요 없어 테스트·디버깅이 빠릅니다.\n",
      "\n",
      "3. **크로스 플랫폼**  \n",
      "   Windows·macOS·Linux 등 대부분의 운영체제에서 동일한 코드로 실행됩니다.\n",
      "\n",
      "4. **방대한 표준 라이브러리·생태계**  \n",
      "   웹(Flask, Django), 데이터 분석(NumPy, pandas), 머신러닝(PyTorch, TensorFlow), 자동화·스크래핑(Selenium, Scrapy) 등 거의 모든 분야에 라이브러리가 준비돼 있습니다.\n",
      "\n",
      "5. **동적 타이핑**  \n",
      "   변수에 타입을 미리 선언하지 않아도 되어 개발 속도가 빠르지만, 대규모 코드에서는 타입 힌트(typing)를 활용해 안정성을 높일 수 있습니다.\n",
      "\n",
      "6. **확장성**  \n",
      "   C/C++로 작성한 모듈을 쉽게 연결할 수 있어, 병목이 되는 부분은 고속화하면서도 전체 생산성을 유지할 수 있습니다.\n",
      "\n",
      "### 버전\n",
      "- Python 2.x: 2020년 공식 지원 종료  \n",
      "- Python 3.x: 현재 권장 버전(3.12, 3.13 등)\n",
      "\n",
      "### 간단한 예제\n",
      "```python\n",
      "# 화씨를 섭씨로 변환\n",
      "f = float(input(\"화씨 온도: \"))\n",
      "c = (f - 32) * 5 / 9\n",
      "print(f\"{f:.1f}°F = {c:.1f}°C\")\n",
      "```\n",
      "\n",
      "### 활용 분야\n",
      "- 웹·API 서버 개발\n",
      "- 데이터 분석·시각화\n",
      "- 인공지능·딥러닝\n",
      "- 자동화 스크립트·DevOps\n",
      "- IoT·임베디드(라즈베리파이 등)\n",
      "- 게임·데스크톱 앱(Kivy, PyQt 등)\n",
      "\n",
      "### 요약\n",
      "“쉽게 읽고 빠르게 쓸 수 있는” 언어로, 초보자도 문법 장벽 없이 프로그래밍의 핵심 개념에 집중할 수 있고, 전문가도 산업 전반에 걸쳐 고성능 애플리케이션을 생산할 수 있게 해줍니다.\n"
     ]
    }
   ],
   "source": [
    "from langchain_openai import ChatOpenAI\n",
    "\n",
    "# LLM 인스턴스 생성\n",
    "#llm = ChatOpenAI(model_name=\"gpt-3.5-turbo\")\n",
    "llm = ChatOpenAI(\n",
    "    base_url=\"https://api.groq.com/openai/v1\",\n",
    "    #model=\"meta-llama/llama-4-scout-17b-16e-instruct\",\n",
    "    model=\"moonshotai/kimi-k2-instruct-0905\",\n",
    "    temperature=0\n",
    ")\n",
    "\n",
    "response = llm.invoke([{\"role\": \"user\", \"content\": \"파이썬이란?\"}])\n",
    "print(response)\n",
    "print(response.content)"
   ]
  },
  {
   "cell_type": "markdown",
   "metadata": {},
   "source": [
    "#### API 키를 명시적으로 설정하는 방법"
   ]
  },
  {
   "cell_type": "code",
   "execution_count": 4,
   "metadata": {},
   "outputs": [
    {
     "name": "stdout",
     "output_type": "stream",
     "text": [
      "content='파이썬(Python)은 1991년 네덜란드의 개발자 귀도 반 로섬(Guido van Rossum)이 만든 **고급 프로그래밍 언어**입니다.  \\n간결하고 읽기 쉬운 문법을 갖춰 **초보자도 쉽게 배울 수 있고**, 동시에 **전문가들이 복잡한 시스템을 구축할 수 있을 만큼 강력**합니다.\\n\\n### 핵심 특징\\n- **쉬운 문법**: C나 Java보다 코드가 짧고 읽기 쉬움  \\n  예: `print(\"Hello, world!\")` 한 줄이면 됨\\n- **인터프리터 언어**: 컴파일 없이 바로 실행 가능\\n- **크로스플랫폼**: Windows, macOS, Linux 등 어디서나 동일하게 작동\\n- **방대한 생태계**: 데이터 분석(판다스, 넘파이), 머신러닝(텐서플로, 사이킷런), 웹(장고, 플라스크), 자동화(셀레니움, 파이오토), 게임(파이게임) 등 수많은 라이브러리가 있음\\n- **커뮤니티 거대**: 질문하면 답변을 빠르게 받을 수 있음\\n\\n### 한 줄 요약\\n> “쓰기 쉽고, 읽기 쉬우며, 무엇이든 할 수 있는 ‘만능 슈퍼글루’ 같은 언어”' additional_kwargs={'refusal': None} response_metadata={'token_usage': {'completion_tokens': 404, 'prompt_tokens': 34, 'total_tokens': 438, 'completion_tokens_details': None, 'prompt_tokens_details': None, 'queue_time': 0.172644765, 'prompt_time': 0.009671304, 'completion_time': 3.026668743, 'total_time': 3.036340047}, 'model_name': 'moonshotai/kimi-k2-instruct-0905', 'system_fingerprint': 'fp_b8565bb333', 'id': 'chatcmpl-e64013ce-0dfa-460b-816f-829732107535', 'service_tier': 'on_demand', 'finish_reason': 'stop', 'logprobs': None} id='run--8eed6e7b-64b2-432d-87c5-bff653389a6f-0' usage_metadata={'input_tokens': 34, 'output_tokens': 404, 'total_tokens': 438, 'input_token_details': {}, 'output_token_details': {}}\n"
     ]
    }
   ],
   "source": [
    "from langchain_openai import ChatOpenAI\n",
    "\n",
    "# 명시적으로 API 키 설정\n",
    "#llm = ChatOpenAI(model=\"gpt-3.5-turbo\", api_key=OPENAI_API_KEY)  \n",
    "llm = ChatOpenAI(\n",
    "    api_key=OPENAI_API_KEY,\n",
    "    base_url=\"https://api.groq.com/openai/v1\",\n",
    "    #model=\"meta-llama/llama-4-scout-17b-16e-instruct\",\n",
    "    model=\"moonshotai/kimi-k2-instruct-0905\",\n",
    "    temperature=0\n",
    ")\n",
    "\n",
    "response = llm.invoke([{\"role\": \"user\", \"content\": \"파이썬이란?\"}])\n",
    "print(response)"
   ]
  },
  {
   "cell_type": "code",
   "execution_count": 5,
   "metadata": {
    "colab": {
     "base_uri": "https://localhost:8080/",
     "height": 721
    },
    "executionInfo": {
     "elapsed": 120391,
     "status": "ok",
     "timestamp": 1739073719232,
     "user": {
      "displayName": "Myung Sook Baek",
      "userId": "06392624545902733911"
     },
     "user_tz": -540
    },
    "id": "wRX0aUZk7Zul",
    "outputId": "5eba57b6-5fbf-4597-de9a-d473e943d423"
   },
   "outputs": [
    {
     "name": "stdout",
     "output_type": "stream",
     "text": [
      "* Running on local URL:  http://127.0.0.1:7862\n",
      "* To create a public link, set `share=True` in `launch()`.\n"
     ]
    },
    {
     "data": {
      "text/html": [
       "<div><iframe src=\"http://127.0.0.1:7862/\" width=\"100%\" height=\"500\" allow=\"autoplay; camera; microphone; clipboard-read; clipboard-write;\" frameborder=\"0\" allowfullscreen></iframe></div>"
      ],
      "text/plain": [
       "<IPython.core.display.HTML object>"
      ]
     },
     "metadata": {},
     "output_type": "display_data"
    },
    {
     "name": "stdout",
     "output_type": "stream",
     "text": [
      "Keyboard interruption in main thread... closing server.\n"
     ]
    },
    {
     "data": {
      "text/plain": []
     },
     "execution_count": 5,
     "metadata": {},
     "output_type": "execute_result"
    }
   ],
   "source": [
    "# 그라디오 라이브러리를 불러옵니다.\n",
    "import gradio as gr\n",
    "# LangChain 의 ChatOpenAI 를 불러옵니다.\n",
    "from langchain_openai import ChatOpenAI\n",
    "\n",
    "# ChatOpenAI 인스턴스 생성\n",
    "#llm = ChatOpenAI(model=\"gpt-3.5-turbo\")\n",
    "llm = ChatOpenAI(\n",
    "    base_url=\"https://api.groq.com/openai/v1\",\n",
    "    #model=\"meta-llama/llama-4-scout-17b-16e-instruct\",\n",
    "    model=\"moonshotai/kimi-k2-instruct-0905\",\n",
    "    temperature=0\n",
    ")\n",
    "\n",
    "# 채팅봇의 응답을 처리하는 함수를 정의합니다.\n",
    "def chat_respond(message, chat_history):  \n",
    "    response = llm.invoke([{\"role\": \"user\", \"content\": message}])\n",
    "    bot_message = response.content\n",
    "    \n",
    "    chat_history.append({\"role\": \"user\", \"content\": message})\n",
    "    chat_history.append({\"role\": \"assistant\", \"content\": bot_message})\n",
    "\n",
    "    # 수정된 채팅 기록을 반환합니다.\n",
    "    return \"\", chat_history  \n",
    "\n",
    "# gr.Blocks()를 사용하여 인터페이스를 생성합니다.\n",
    "with gr.Blocks() as demo:  \n",
    "    chatbot = gr.Chatbot(label=\"채팅창\", type=\"messages\")  # '채팅창'이라는 레이블을 가진 채팅봇 컴포넌트를 생성합니다.\n",
    "    msg = gr.Textbox(label=\"입력\")  # '입력'이라는 레이블을 가진 텍스트박스를 생성합니다.\n",
    "    clear = gr.Button(\"초기화\")  # '초기화'라는 레이블을 가진 버튼을 생성합니다.\n",
    "\n",
    "    # 텍스트박스에 메시지를 입력하고 제출하면 respond 함수가 호출되도록 합니다.\n",
    "    msg.submit(chat_respond, [msg, chatbot], [msg, chatbot])  \n",
    "    # '초기화' 버튼을 클릭하면 채팅 기록을 초기화합니다.\n",
    "    clear.click(lambda: None, None, chatbot, queue=False)  \n",
    "\n",
    "# 인터페이스를 실행합니다. 실행하면 사용자는 '입력' 텍스트박스에 메시지를 작성하고 제출할 수 있으며, '초기화' 버튼을 통해 채팅 기록을 초기화 할 수 있습니다.\n",
    "demo.launch(debug=True)  "
   ]
  },
  {
   "cell_type": "code",
   "execution_count": null,
   "metadata": {},
   "outputs": [],
   "source": []
  }
 ],
 "metadata": {
  "colab": {
   "authorship_tag": "ABX9TyObKSkPPvS7YmfW96AW/9bs",
   "provenance": []
  },
  "kernelspec": {
   "display_name": "mylangchain-app-SBe-Yh6W-py3.12",
   "language": "python",
   "name": "python3"
  },
  "language_info": {
   "codemirror_mode": {
    "name": "ipython",
    "version": 3
   },
   "file_extension": ".py",
   "mimetype": "text/x-python",
   "name": "python",
   "nbconvert_exporter": "python",
   "pygments_lexer": "ipython3",
   "version": "3.12.7"
  }
 },
 "nbformat": 4,
 "nbformat_minor": 4
}
