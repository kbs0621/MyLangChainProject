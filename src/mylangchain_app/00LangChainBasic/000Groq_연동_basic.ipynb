{
 "cells": [
  {
   "cell_type": "code",
   "execution_count": 9,
   "metadata": {},
   "outputs": [
    {
     "name": "stdout",
     "output_type": "stream",
     "text": [
      "Hello LangChain!!\n"
     ]
    }
   ],
   "source": [
    "print(\"Hello LangChain!!\")"
   ]
  },
  {
   "cell_type": "code",
   "execution_count": 10,
   "metadata": {},
   "outputs": [
    {
     "name": "stdout",
     "output_type": "stream",
     "text": [
      "gsk_eOQ40w\n"
     ]
    }
   ],
   "source": [
    "import os\n",
    "from dotenv import load_dotenv\n",
    "from langchain_core.prompts import ChatPromptTemplate\n",
    "from langchain_openai import ChatOpenAI \n",
    "\n",
    "#load_dotenv(dotenv_path='.env')\n",
    "load_dotenv()\n",
    "OPENAI_API_KEY = os.getenv(\"OPENAI_API_KEY\")\n",
    "print(OPENAI_API_KEY[:10])\n"
   ]
  },
  {
   "cell_type": "code",
   "execution_count": 11,
   "metadata": {},
   "outputs": [
    {
     "name": "stdout",
     "output_type": "stream",
     "text": [
      "<class 'langchain_core.prompts.chat.ChatPromptTemplate'>\n",
      "input_variables=['input'] input_types={} partial_variables={} messages=[SystemMessagePromptTemplate(prompt=PromptTemplate(input_variables=[], input_types={}, partial_variables={}, template='당신은 개발자입니다.'), additional_kwargs={}), HumanMessagePromptTemplate(prompt=PromptTemplate(input_variables=['input'], input_types={}, partial_variables={}, template='{input}'), additional_kwargs={})]\n"
     ]
    }
   ],
   "source": [
    "# prompt + llm + output \n",
    "\n",
    "# prompt\n",
    "prompt = ChatPromptTemplate.from_messages(\n",
    "    [ (\"system\", \"당신은 개발자입니다.\") , \n",
    "     (\"user\", \"{input}\") ]\n",
    ")\n",
    "print(type(prompt))\n",
    "print(prompt)"
   ]
  },
  {
   "cell_type": "code",
   "execution_count": 12,
   "metadata": {},
   "outputs": [
    {
     "name": "stdout",
     "output_type": "stream",
     "text": [
      "<class 'str'>\n",
      "System: 당신은 개발자입니다.\n",
      "Human: 파이썬은 무엇인가요? 자세하게 설명해주세요\n"
     ]
    }
   ],
   "source": [
    "prompt_text = prompt.format(input=\"파이썬은 무엇인가요? 자세하게 설명해주세요\")\n",
    "print(type(prompt_text))\n",
    "print(prompt_text)"
   ]
  },
  {
   "cell_type": "code",
   "execution_count": 13,
   "metadata": {},
   "outputs": [
    {
     "name": "stdout",
     "output_type": "stream",
     "text": [
      "<class 'langchain_openai.chat_models.base.ChatOpenAI'>\n",
      "client=<openai.resources.chat.completions.completions.Completions object at 0x000002092E5FD280> async_client=<openai.resources.chat.completions.completions.AsyncCompletions object at 0x000002092E5FD430> root_client=<openai.OpenAI object at 0x000002092E5FCD10> root_async_client=<openai.AsyncOpenAI object at 0x000002092E5FD310> model_name='moonshotai/kimi-k2-instruct-0905' temperature=0.7 model_kwargs={} openai_api_key=SecretStr('**********') openai_api_base='https://api.groq.com/openai/v1'\n"
     ]
    }
   ],
   "source": [
    "#llm = ChatOpenAI(api_key=OPENAI_API_KEY, model_name=\"gpt-3.5-turbo-0125\")\n",
    "\n",
    "# Groq API를 사용하는 ChatOpenAI 인스턴스 생성\n",
    "llm = ChatOpenAI(\n",
    "    #api_key=OPENAI_API_KEY,\n",
    "    base_url=\"https://api.groq.com/openai/v1\",  # Groq API 엔드포인트\n",
    "    #model=\"meta-llama/llama-4-scout-17b-16e-instruct\",\n",
    "    model=\"moonshotai/kimi-k2-instruct-0905\",\n",
    "    temperature=0.7\n",
    ")\n",
    "print(type(llm))\n",
    "print(llm)"
   ]
  },
  {
   "cell_type": "code",
   "execution_count": 14,
   "metadata": {},
   "outputs": [
    {
     "name": "stdout",
     "output_type": "stream",
     "text": [
      "<class 'langchain_core.messages.ai.AIMessage'>\n",
      "응답: # 파이썬(Python)이란?\n",
      "\n",
      "## 1. 개요\n",
      "- **공식 정의**: 인터프리터 방식의 고급 범용 프로그래밍 언어  \n",
      "- **설계 철학**: 가독성, 단순성, 생산성  \n",
      "- **태어난 곳**: 1991년 네덜란드 프로그래머 귀도 반 로섬(Guido van Rossum)  \n",
      "- **이름 유래**: BBC 코미디 쇼 “Monty Python’s Flying Circus”\n",
      "\n",
      "## 2. 주요 특징\n",
      "1. **인터프리터(Interpreter) 방식**  \n",
      "   - 소스를 한 줄씩 번역·실행 → 컴파일-링크 과정이 없어 즉각적 피드백  \n",
      "2. **고급 언어(High-level)**  \n",
      "   - 메모리 주소, 포인터, 가비지 수집 등 하위 레벨을 직접 다룰 필요 X  \n",
      "3. **동적 타이핑(Dynamic typing)**  \n",
      "   - 변수 선언 시 자료형을 적지 않아도 됨  \n",
      "4. **강력한 표준 라이브러리(“batteries included”)**  \n",
      "   - 파일 I/O, 압축, 네트워크, 정규표현식, JSON, XML, 이미지, 멀티스레딩 등 기본 포함  \n",
      "5. **크로스 플랫폼**  \n",
      "   - Windows, macOS, 리눅스, 임베디드(라즈베리파이, 마이크로파이썬), 모바일(키비)  \n",
      "6. **확장성**  \n",
      "   - C, C++, 러스트, 고 등으로 작성한 모듈을 쉽게 연결 가능  \n",
      "7. **객체 지향 + 절차 지향 + 함수형 혼합**  \n",
      "   - 클래스, 일급 함수, 람다, 데코레이터, 제너레이터, 코루틴 지원  \n",
      "8. **자동 메모리 관리**  \n",
      "   - 참조 카운트 + 사이클 탐지 GC로 메모리 누수 최소화  \n",
      "9. **오픈소스 & 커뮤니티**  \n",
      "   - PSF(Python Software Foundation)가 관리, 라이선스는 Python Software Foundation License(≈BSD)  \n",
      "10. **버전 분기**  \n",
      "    - Python 2(2000) → 2020.01 공식 지원 종료  \n",
      "    - Python 3(2008~) 현재 주력, 3.12(2023) 기준\n",
      "\n",
      "## 3. 기본 문법 맛보기\n",
      "```python\n",
      "def fib(n: int) -> list[int]:\n",
      "    \"\"\"n 이하의 피보나치 수열을 반환\"\"\"\n",
      "    a, b = 0, 1\n",
      "    result = []\n",
      "    while a <= n:\n",
      "        result.append(a)\n",
      "        a, b = b, a + b\n",
      "    return result\n",
      "\n",
      "if __name__ == \"__main__\":\n",
      "    print(fib(30))\n",
      "```\n",
      "- 들여쓰기(indent)로 블록 구분  \n",
      "- 타입 힌팅(콜론·화살표)은 선택 사항이며, 런타임에는 영향 X → 정적 분석 도구(mypy) 활용 가능\n",
      "\n",
      "## 4. 생태계 & 주요 라이브러리\n",
      "- **데이터 분석**: NumPy, pandas, SciPy, Polars  \n",
      "- **시각화**: Matplotlib, Seaborn, Plotly, Altair  \n",
      "- **머신러닝/딥러닝**: scikit-learn, XGBoost, LightGBM, TensorFlow, PyTorch, Hugging Face Transformers  \n",
      "- **웹 프레임워크**: Django(풀스택), Flask·FastAPI(마이크로)  \n",
      "- **비동기/고성능**: asyncio, trio, httpx, uvloop  \n",
      "- **자동화/스크래핑**: Selenium, Playwright, Scrapy, BeautifulSoup, pyautogui  \n",
      "- **GUI**: Tkinter(표준), PyQt/PySide, Kivy, Dear PyGui  \n",
      "- **게임**: Pygame, Arcade, Panda3D  \n",
      "- **과학/고성능**: Dask, Ray, CuPy(GPU), Numba(JIT), Cython, PyPy  \n",
      "- **데브옵스/클라우드**: Ansible, SaltStack, AWS CDK, Pulumi, Fabric  \n",
      "- **노트북/교육**: Jupyter, JupyterLab, Google Colab, VS Code + Python 확장  \n",
      "\n",
      "## 5. 설치 및 실행\n",
      "- 공식 사이트 python.org 에서 바이너리 다운로드  \n",
      "- 패키지 관리자 conda, pyenv, asdf, chocolatey, homebrew 등으로 다중 버전 설치 가능  \n",
      "- 가상환경(venv, virtualenv, conda env, poetry, pipenv)로 프로젝트별 의존성 분리 권장  \n",
      "- 실행: `python script.py` 또는 대화형 REPL → `python`\n",
      "\n",
      "## 6. 장단점\n",
      "### 장점\n",
      "- 문법이 단순 → 코드가 거의 의사코드 수준, 유지 보수 비용 ↓  \n",
      "- 방대한 서드파티 → “만들고 싶은 것”이 대부분 이미 존재  \n",
      "- 커뮤니티·문서·강의 풍부 → 입장 장벽 ↓  \n",
      "- 생산성 ↑ → 스타트업·연구·데이터 분야에서 사실상 표준  \n",
      "- 다양한 프로그래밍 패러다임 지원 → 유연성 ↑  \n",
      "\n",
      "### 단점\n",
      "- 인터프리터 언어 + GIL(Global Interpreter Lock) → CPU-bound 멀티스레딩 한계  \n",
      "- 모바일 네이티브나 고성능 게임 엔진 분야에서는 C++/러스트/스위프트 대비 성능 ↓  \n",
      "- 런타임 에러 가능성(동적 타이핑) → 대규모 코드베이스는 정적 분석 도구, 테스트 필수  \n",
      "- 버전 2→3 전환 과정에서의 레거시 코드 이슈(현재는 거의 해결)  \n",
      "\n",
      "## 7. 활용 분야\n",
      "- 데이터 사이언스, 빅데이터, 머신러닝, 딥러닝, AI 연구·서비스  \n",
      "- 백엔드·API 서버, 마이크로서비스  \n",
      "- DevOps·자동화 스크립트, CI/CD  \n",
      "- 금융·퀀트 분석, 알고리즘 트레이딩  \n",
      "- 사이버 보안, 침투 테스트, 로그 분석  \n",
      "- IoT·라즈베리파이, 로봇(ROS), 자동제어  \n",
      "- 웹 스크래핑, 업무 자동화(RPA)  \n",
      "- 학교·대학 교육(코딩 입문, 코딩 테스트)  \n",
      "- 생명공학, 약물 개발, 물리학 시뮬레이션  \n",
      "\n",
      "## 8. 향후 방향\n",
      "- 성능 개선: PEP 703(“GIL 제거” 실험), JIT 계열(사이피, PyPy, CPython의 JIT 시도)  \n",
      "- 타입 시스템 강화: PEP 695(향상된 제네릭), typing-extensions  \n",
      "- 웹어셈블리 지원: Pyodide, MicroPython → 브라우저·임베디드 확장  \n",
      "- 비동기 생태계 고도화: AnyIO, 웹소켓, 서버리스 런타임  \n",
      "- 데이터·AI: GPU 가속(RAPIDS, JAX), 분산 처리(Ray, Dask), MLOps 통합  \n",
      "\n",
      "## 9. 요약\n",
      "파이썬은 “읽기 쉽고, 쓰기 쉽고, 배우기 쉬운” 3박자를 갖춘 범용 언어로, 방대한 표준·서드파티 라이브러리와 활발한 커뮤니티 덕분에 데이터·AI, 웹, 자동화, 교육 등 거의 모든 영역에 걸쳐 “제일 먼저 떠오르는 선택지”가 되었다. GIL·성능 한계 등의 단점은 C 확장, JIT, GIL-프리 실험 등으로 점점 해결되고 있으며, 앞으로도 생태계의 중심 언어 중 하나로 자리를 지켜갈 전망이다.\n"
     ]
    }
   ],
   "source": [
    "try:\n",
    "    response = llm.invoke(prompt_text)\n",
    "    print(type(response))\n",
    "    print(\"응답:\", response.content)\n",
    "except Exception as e:\n",
    "    print(f\"오류 발생: {e}\")"
   ]
  },
  {
   "cell_type": "markdown",
   "metadata": {},
   "source": [
    "# LCEL"
   ]
  },
  {
   "cell_type": "code",
   "execution_count": 15,
   "metadata": {},
   "outputs": [],
   "source": [
    "from langchain_core.output_parsers import StrOutputParser\n",
    "\n",
    "output_parser = StrOutputParser()"
   ]
  },
  {
   "cell_type": "code",
   "execution_count": 16,
   "metadata": {},
   "outputs": [
    {
     "name": "stdout",
     "output_type": "stream",
     "text": [
      "<class 'langchain_core.runnables.base.RunnableSequence'>\n",
      "first=ChatPromptTemplate(input_variables=['input'], input_types={}, partial_variables={}, messages=[SystemMessagePromptTemplate(prompt=PromptTemplate(input_variables=[], input_types={}, partial_variables={}, template='당신은 개발자입니다.'), additional_kwargs={}), HumanMessagePromptTemplate(prompt=PromptTemplate(input_variables=['input'], input_types={}, partial_variables={}, template='{input}'), additional_kwargs={})]) middle=[ChatOpenAI(client=<openai.resources.chat.completions.completions.Completions object at 0x000002092E5FD280>, async_client=<openai.resources.chat.completions.completions.AsyncCompletions object at 0x000002092E5FD430>, root_client=<openai.OpenAI object at 0x000002092E5FCD10>, root_async_client=<openai.AsyncOpenAI object at 0x000002092E5FD310>, model_name='moonshotai/kimi-k2-instruct-0905', temperature=0.7, model_kwargs={}, openai_api_key=SecretStr('**********'), openai_api_base='https://api.groq.com/openai/v1')] last=StrOutputParser()\n"
     ]
    }
   ],
   "source": [
    "chain = prompt | llm | output_parser\n",
    "print(type(chain))\n",
    "print(chain)"
   ]
  },
  {
   "cell_type": "code",
   "execution_count": 19,
   "metadata": {},
   "outputs": [],
   "source": [
    "response = chain.invoke({\"input\":\"지구의 자전주기는 얼마인가요?\"})"
   ]
  },
  {
   "cell_type": "code",
   "execution_count": 20,
   "metadata": {},
   "outputs": [
    {
     "name": "stdout",
     "output_type": "stream",
     "text": [
      "<class 'str'>\n",
      "지구의 자전 주기는 약 **23시간 56분 4초**입니다. 이를 **별일주(stellar day)**라고 하며, 지구가 한 바퀴 도는 데 걸리는 실제 시간입니다.\n",
      "\n",
      "하지만 우리가 일상적으로 사용하는 하루(24시간)는 **태양일(solar day)**로, 지구가 태양을 기준으로 같은 위치에 다시 도달할 때까지 걸리는 시간입니다. 태양일은 지구가 공전도 하고 있기 때문에 자전 주기보다 조금 더 깁니다.\n"
     ]
    }
   ],
   "source": [
    "print(type(response))\n",
    "print(response)"
   ]
  }
 ],
 "metadata": {
  "kernelspec": {
   "display_name": "mylangchain-app-SBe-Yh6W-py3.12",
   "language": "python",
   "name": "python3"
  },
  "language_info": {
   "codemirror_mode": {
    "name": "ipython",
    "version": 3
   },
   "file_extension": ".py",
   "mimetype": "text/x-python",
   "name": "python",
   "nbconvert_exporter": "python",
   "pygments_lexer": "ipython3",
   "version": "3.12.7"
  }
 },
 "nbformat": 4,
 "nbformat_minor": 2
}
