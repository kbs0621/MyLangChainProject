{
 "cells": [
  {
   "cell_type": "code",
   "execution_count": 4,
   "id": "848aef80",
   "metadata": {},
   "outputs": [
    {
     "name": "stdout",
     "output_type": "stream",
     "text": [
      "gsk_\n"
     ]
    }
   ],
   "source": [
    "import os\n",
    "from dotenv import load_dotenv\n",
    "from langchain_core.prompts import ChatPromptTemplate\n",
    "from langchain_openai import ChatOpenAI \n",
    "\n",
    "#load_dotenv(dotenv_path='.env')\n",
    "load_dotenv()\n",
    "OPENAI_API_KEY = os.getenv(\"OPENAI_API_KEY\")\n",
    "print(OPENAI_API_KEY[:4])\n"
   ]
  },
  {
   "cell_type": "code",
   "execution_count": 3,
   "id": "213b8c8f",
   "metadata": {},
   "outputs": [
    {
     "name": "stdout",
     "output_type": "stream",
     "text": [
      "('**추천 요리: 간장 계란 볶음밥**  \\n'\n",
      " '*간단하게 만들 수 있는 한 그릇 요리로, 부드러운 계란과 짭짤한 간장이 어우러진 맛이 일품이에요.*\\n'\n",
      " '\\n'\n",
      " '---\\n'\n",
      " '\\n'\n",
      " '### 재료 (1인분)\\n'\n",
      " '\\n'\n",
      " '| 재료 | 양 |\\n'\n",
      " '|------|----|\\n'\n",
      " '| 밥 (남은 밥 또는 찬밥) | 1공기 (약 200\\u202fg) |\\n'\n",
      " '| 계란 | 2개 |\\n'\n",
      " '| 간장 | 1\\u202f~\\u202f1½ 큰술 (취향에 따라) |\\n'\n",
      " '| 식용유 | 1\\u202f~\\u202f2 큰술 |\\n'\n",
      " '| 다진 파 (선택) | 약간 |\\n'\n",
      " '| 참기름 (선택) | ½ 작은술 |\\n'\n",
      " '| 소금·후추 | 약간 |\\n'\n",
      " '\\n'\n",
      " '---\\n'\n",
      " '\\n'\n",
      " '### 조리 순서\\n'\n",
      " '\\n'\n",
      " '1. **재료 준비**  \\n'\n",
      " '   - 계란은 볼에 깨서 가볍게 풀어 주세요.  \\n'\n",
      " '   - 밥은 뭉쳐 있으면 손으로 살짝 풀어 주면 고르게 볶아집니다.  \\n'\n",
      " '   - 파는 송송 썰어 둡니다.\\n'\n",
      " '\\n'\n",
      " '2. **계란 스크램블**  \\n'\n",
      " '   - 팬에 식용유 ½ 큰술을 두르고 중불에 달군 뒤, 풀어 둔 계란을 부어 살짝 저어가며 반쯤 익을 때까지 볶아 주세요.  \\n'\n",
      " '   - 완전히 익히지 말고 살짝 부드러운 상태에서 팬 밖으로 옮겨 둡니다.\\n'\n",
      " '\\n'\n",
      " '3. **밥 볶기**  \\n'\n",
      " '   - 같은 팬에 식용유 ½~1 큰술을 추가하고, 기름이 살짝 뜨거워지면 밥을 넣어 줍니다.  \\n'\n",
      " '   - 밥을 골고루 뒤집어가며 2~3분 정도 볶아, 밥알이 뜨거워지고 약간 바삭해질 때까지 볶아 주세요.\\n'\n",
      " '\\n'\n",
      " '4. **간장·계란 넣기**  \\n'\n",
      " '   - 볶은 밥에 간장을 골고루 뿌리고, 바로 전 단계에서 만든 스크램블 계란을 넣습니다.  \\n'\n",
      " '   - 전체를 부드럽게 섞어가며 1분 정도 더 볶아, 간장이 밥에 골고루 스며들게 합니다.\\n'\n",
      " '\\n'\n",
      " '5. **마무리**  \\n'\n",
      " '   - 소금·후추로 간을 맞추고, 원한다면 참기름 ½ 작은술을 둘러 풍미를 더합니다.  \\n'\n",
      " '   - 마지막으로 다진 파를 뿌려 색감과 향을 더하면 완성!\\n'\n",
      " '\\n'\n",
      " '6. **플레이팅**  \\n'\n",
      " '   - 따뜻한 그릇에 담고, 원한다면 김가루·깨소금·고추가루를 살짝 뿌려도 좋아요.\\n'\n",
      " '\\n'\n",
      " '---\\n'\n",
      " '\\n'\n",
      " '### 팁 & 변형 아이디어\\n'\n",
      " '\\n'\n",
      " '| 팁 | 설명 |\\n'\n",
      " '|-----|------|\\n'\n",
      " '| **찬밥 활용** | 찬밥을 바로 사용하면 물기가 적어 더욱 고슬고슬한 식감을 얻을 수 있어요. |\\n'\n",
      " '| **간장 종류** | 일반 진간장 대신 가쓰오(다시마) 간장을 사용하면 감칠맛이 더 풍부해집니다. |\\n'\n",
      " '| **추가 재료** | 남은 야채(당근·양파·시금치)나 햄·베이컨을 작게 썰어 함께 볶아도 맛있어요. |\\n'\n",
      " '| **매운맛** | 고추장 ½ 작은술이나 고춧가루를 살짝 넣으면 매콤한 볶음밥이 됩니다. |\\n'\n",
      " '| **계란 종류** | 반숙을 좋아한다면 계란을 거의 익히지 않은 상태로 마지막에 넣어 부드러운 반숙 계란을 유지하세요. |\\n'\n",
      " '\\n'\n",
      " '---\\n'\n",
      " '\\n'\n",
      " '**한 끼 식사로 충분히 만족스러운 간장 계란 볶음밥**, 간단하면서도 풍부한 감칠맛을 즐겨 보세요! 🍳🥢')\n"
     ]
    }
   ],
   "source": [
    "from langchain_core.prompts import PromptTemplate\n",
    "from langchain_openai import ChatOpenAI\n",
    "from langchain_core.output_parsers import StrOutputParser\n",
    "from pprint import pprint\n",
    "\n",
    "template_text = \"{input}를 재료로 만들 수 있는 추천 요리와 간단한 레시피를 한국어로 답변해주세요\"\n",
    "\n",
    "# PromptTemplate 인스턴스를 생성\n",
    "prompt_template = PromptTemplate.from_template(template_text)\n",
    "\n",
    "# llm = ChatOpenAI(model=\"gpt-3.5-turbo-0125\")\n",
    "llm = ChatOpenAI(\n",
    "    api_key=OPENAI_API_KEY,\n",
    "    base_url=\"https://api.groq.com/openai/v1\",  # Groq API 엔드포인트\n",
    "    #model=\"meta-llama/llama-4-scout-17b-16e-instruct\",  # Spring AI와 동일한 모델\n",
    "    model=\"openai/gpt-oss-120b\",\n",
    "    temperature=0.7\n",
    ")\n",
    "\n",
    "chain = prompt_template | llm | StrOutputParser()\n",
    "response = chain.invoke({\"input\":\"계란, 밥, 간장\"})\n",
    "pprint(response)"
   ]
  }
 ],
 "metadata": {
  "kernelspec": {
   "display_name": "mylangchain-app-SBe-Yh6W-py3.12",
   "language": "python",
   "name": "python3"
  },
  "language_info": {
   "codemirror_mode": {
    "name": "ipython",
    "version": 3
   },
   "file_extension": ".py",
   "mimetype": "text/x-python",
   "name": "python",
   "nbconvert_exporter": "python",
   "pygments_lexer": "ipython3",
   "version": "3.12.7"
  }
 },
 "nbformat": 4,
 "nbformat_minor": 5
}
