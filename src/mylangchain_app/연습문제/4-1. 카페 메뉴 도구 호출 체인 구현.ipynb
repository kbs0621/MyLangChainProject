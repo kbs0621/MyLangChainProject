{
 "cells": [
  {
   "cell_type": "code",
   "execution_count": 25,
   "id": "41841b1c",
   "metadata": {},
   "outputs": [
    {
     "name": "stdout",
     "output_type": "stream",
     "text": [
      "sk\n",
      "up\n",
      "tv\n"
     ]
    }
   ],
   "source": [
    "import os\n",
    "from dotenv import load_dotenv\n",
    "from langchain_community.utilities.tavily_search import TAVILY_API_URL\n",
    "\n",
    "load_dotenv()\n",
    "\n",
    "OPENAI_API_KEY = os.getenv(\"OPENAI_API_KEY\")\n",
    "print(OPENAI_API_KEY[:2])\n",
    "UPSTAGE_API_KEY = os.getenv(\"UPSTAGE_API_KEY\")\n",
    "print(UPSTAGE_API_KEY[:2])\n",
    "TAVILY_API_KEY = os.getenv(\"TAVILY_API_KEY\")\n",
    "print(TAVILY_API_KEY[:2])"
   ]
  },
  {
   "cell_type": "code",
   "execution_count": 28,
   "id": "275dfa55",
   "metadata": {},
   "outputs": [
    {
     "name": "stdout",
     "output_type": "stream",
     "text": [
      "==> 1. cafe_menu.txt 로드 완료\n",
      "==> 2. 총 10개의 메뉴 항목으로 분할 완료\n"
     ]
    }
   ],
   "source": [
    "import re\n",
    "from langchain_community.document_loaders import TextLoader\n",
    "from langchain_core.documents import Document\n",
    "from langchain_upstage import UpstageEmbeddings\n",
    "from langchain_community.vectorstores import Chroma\n",
    "\n",
    "# --- 1. 문서 로드 ---\n",
    "loader = TextLoader(\"../data/cafe_menu_data.txt\", encoding=\"utf-8\")\n",
    "documents = loader.load()\n",
    "print(\"==> 1. cafe_menu.txt 로드 완료\")\n",
    "\n",
    "# --- 2. 문서 분할 ---\n",
    "# 각 메뉴 항목을 별도의 Document 객체로 분할하는 함수\n",
    "def split_menu_items(document):\n",
    "    pattern = r'(\\d+\\.\\s.*?)(?=\\n\\n\\d+\\.|$)'\n",
    "    menu_items = re.findall(pattern, document.page_content, re.DOTALL)\n",
    "    menu_documents = []\n",
    "    for i, item in enumerate(menu_items, 1):\n",
    "        menu_name = item.split('\\n')[0].split('.', 1)[1].strip()\n",
    "        menu_doc = Document(\n",
    "            page_content=item.strip(),\n",
    "            metadata={\n",
    "                \"source\": document.metadata['source'],\n",
    "                \"menu_number\": i,\n",
    "                \"menu_name\": menu_name\n",
    "            }\n",
    "        )\n",
    "        menu_documents.append(menu_doc)\n",
    "    return menu_documents\n",
    "\n",
    "menu_docs = split_menu_items(documents[0])\n",
    "print(f\"==> 2. 총 {len(menu_docs)}개의 메뉴 항목으로 분할 완료\")\n"
   ]
  },
  {
   "cell_type": "code",
   "execution_count": 32,
   "id": "f89d855b",
   "metadata": {},
   "outputs": [
    {
     "name": "stdout",
     "output_type": "stream",
     "text": [
      "==> 3. Upstage 임베딩 모델 준비 완료\n",
      "==> 4. Chroma 벡터 DB 생성 및 저장 완료\n",
      "\n",
      "--- 검색기 테스트 결과 ---\n",
      "{'menu_name': '카페라떼', 'menu_number': 2, 'source': '../data/cafe_menu_data.txt'}\n",
      "{'menu_name': '카페라떼', 'menu_number': 2, 'source': '../data/cafe_menu_data.txt'}\n",
      "==> 5. 검색기 테스트 완료\n"
     ]
    }
   ],
   "source": [
    "# --- 3. 임베딩 모델 설정 ---\n",
    "embeddings_model = UpstageEmbeddings(model=\"solar-embedding-1-large\")\n",
    "print(\"==> 3. Upstage 임베딩 모델 준비 완료\")\n",
    "\n",
    "# --- 4. Chroma 벡터 DB 생성 및 저장 ---\n",
    "db_dir = \"./db/cafe_db\"\n",
    "cafe_db = Chroma.from_documents(\n",
    "    documents=menu_docs,\n",
    "    embedding=embeddings_model,\n",
    "    persist_directory=db_dir\n",
    ")\n",
    "print(\"==> 4. Chroma 벡터 DB 생성 및 저장 완료\")\n",
    "\n",
    "# --- 5. 검색기(Retriever) 테스트 ---\n",
    "retriever = cafe_db.as_retriever(search_kwargs={\"k\": 2})\n",
    "retrieved_docs = retriever.invoke(\"라떼에 대해 알려줘\")\n",
    "print(\"\\n--- 검색기 테스트 결과 ---\")\n",
    "for doc in retrieved_docs:\n",
    "    print(doc.metadata)\n",
    "\n",
    "print(\"==> 5. 검색기 테스트 완료\")"
   ]
  },
  {
   "cell_type": "code",
   "execution_count": null,
   "id": "45f7466c",
   "metadata": {},
   "outputs": [
    {
     "name": "stdout",
     "output_type": "stream",
     "text": [
      "==> 6-1. tavily_search_func 정의 완료\n",
      "==> 6-2. search_wiki_func 정의 완료\n",
      "==> 6-3. db_search_cafe_func 정의 완료\n"
     ]
    }
   ],
   "source": [
    "\n",
    "# (1) 도구 정의: tavily_search_func\n",
    "from langchain_community.tools import TavilySearchResults\n",
    "\n",
    "@tool\n",
    "def tavily_search_func(query: str) -> str:\n",
    "    \"\"\"\n",
    "    최신 정보나 데이터베이스에 없는 정보를 인터넷에서 검색할 때 사용합니다.\n",
    "    예를 들어, 최신 커피 트렌드나 특정 카페의 위치 정보 등에 유용합니다.\n",
    "    \"\"\"\n",
    "    tavily_search = TavilySearchResults(max_results=3)\n",
    "    docs = tavily_search.invoke(query)\n",
    "\n",
    "    formatted_docs = \"\\n---\\n\".join([\n",
    "        f'<Document href=\"{doc[\"url\"]}\"/>\\n{doc[\"content\"]}\\n</Document>'\n",
    "        for doc in docs\n",
    "    ])\n",
    "\n",
    "    if formatted_docs:\n",
    "        return formatted_docs\n",
    "\n",
    "    return \"관련 정보를 찾을 수 없습니다.\"\n",
    "\n",
    "print(\"==> 6-1. tavily_search_func 정의 완료\")\n",
    "\n",
    "# (2) 도구 정의: wiki_summary (LCEL 체인을 도구로 변환)\n",
    "from langchain_core.runnables import RunnableLambda\n",
    "from langchain_core.prompts import ChatPromptTemplate\n",
    "from langchain_core.output_parsers import StrOutputParser\n",
    "from langchain_community.document_loaders import WikipediaLoader\n",
    "from langchain_upstage import ChatUpstage\n",
    "from pydantic import BaseModel, Field\n",
    "from textwrap import dedent\n",
    "\n",
    "# WikipediaLoader를 사용하는 함수 정의\n",
    "def search_wiki_func(input_data: dict) -> List[Document]:\n",
    "    wiki_loader = WikipediaLoader(query=input_data[\"query\"], load_max_docs=2, lang=\"ko\")\n",
    "    return wiki_loader.load()\n",
    "\n",
    "# 요약 프롬프트 템플릿\n",
    "summary_prompt = ChatPromptTemplate.from_template(\"다음 텍스트를 간결하게 요약해 주세요:\\n\\n{context}\\n\\n요약:\")\n",
    "\n",
    "# LLM 초기화\n",
    "llm = ChatUpstage(model=\"solar-pro\", temperature=0.1)\n",
    "\n",
    "# 요약 체인 생성\n",
    "summary_chain = (\n",
    "    {\"context\": RunnableLambda(search_wiki_func)}\n",
    "    | summary_prompt | llm | StrOutputParser()\n",
    ")\n",
    "\n",
    "# 도구 입력 스키마 정의\n",
    "class WikiSummarySchema(BaseModel):\n",
    "    query: str = Field(..., description=\"위키피디아에서 검색할 주제\")\n",
    "\n",
    "# Runnable 체인을 도구로 변환\n",
    "wiki_summary = summary_chain.as_tool(\n",
    "    name=\"wiki_summary\",\n",
    "    description=dedent(\"\"\"\n",
    "        일반적인 지식이나 배경 정보가 필요할 때 위키피디아에서 정보를 검색하고 요약합니다.\n",
    "        예를 들어, 커피의 역사, 음료 제조 방법 등에 유용합니다.\n",
    "    \"\"\"),\n",
    "    args_schema=WikiSummarySchema\n",
    "    )\n",
    "\n",
    "print(\"==> 6-2. search_wiki_func 정의 완료\")\n",
    "\n",
    "# (3) 도구 정의: db_search_cafe_func\n",
    "from typing import List\n",
    "from langchain_core.tools import tool\n",
    "\n",
    "# 미리 생성된 Chroma DB를 로드합니다.\n",
    "cafe_db = Chroma(\n",
    "    embedding_function=embeddings_model,\n",
    "    persist_directory=db_dir\n",
    ")\n",
    "\n",
    "@tool\n",
    "def db_search_cafe_func(query: str) -> List[Document]:\n",
    "    \"\"\"\n",
    "    로컬 카페 메뉴 데이터베이스에서 정보를 검색할 때 사용합니다.\n",
    "    메뉴의 가격, 재료, 설명 등과 관련된 질문에 유용합니다.\n",
    "    \"\"\"\n",
    "    docs = cafe_db.similarity_search(query, k=4)\n",
    "    if docs:\n",
    "        return docs\n",
    "    return [Document(page_content=\"관련 메뉴 정보를 찾을 수 없습니다.\")]\n",
    "\n",
    "print(\"==> 6-3. db_search_cafe_func 정의 완료\")"
   ]
  },
  {
   "cell_type": "code",
   "execution_count": 42,
   "id": "636ab1ab",
   "metadata": {},
   "outputs": [
    {
     "name": "stdout",
     "output_type": "stream",
     "text": [
      "==> 7. LLM 도구 바인딩 완료\n",
      "3개의 도구가 LLM에 성공적으로 바인딩되었습니다.\n",
      " - 바인딩된 도구: ['db_search_cafe_func', 'tavily_search_func', 'wiki_summary']\n"
     ]
    }
   ],
   "source": [
    "# 7. LLM에 모든 도구 바인딩\n",
    "\n",
    "tools = [db_search_cafe_func, tavily_search_func, wiki_summary]\n",
    "llm_with_tools = llm.bind_tools(tools=tools)\n",
    "\n",
    "print(\"==> 7. LLM 도구 바인딩 완료\")\n",
    "print(\"3개의 도구가 LLM에 성공적으로 바인딩되었습니다.\")\n",
    "print(f\" - 바인딩된 도구: {[tool.name for tool in tools]}\")\n"
   ]
  },
  {
   "cell_type": "code",
   "execution_count": null,
   "id": "8ca4f7e2",
   "metadata": {},
   "outputs": [
    {
     "name": "stdout",
     "output_type": "stream",
     "text": [
      "==> 8. @chain 데코레이터를 사용한 도구 호출 체인 구현 완료!\n"
     ]
    }
   ],
   "source": [
    "from langchain_core.messages import HumanMessage, AIMessage, ToolMessage\n",
    "from langchain_core.runnables import RunnableConfig, chain\n",
    "from langchain_core.prompts import MessagesPlaceholder\n",
    "\n",
    "prompt = ChatPromptTemplate.from_messages([\n",
    "    (\"system\", \"당신은 카페 메뉴와 음식에 대한 지식을 갖춘 AI 어시스턴트입니다. 사용자의 질문에 답하기 위해 주어진 도구를 적절히 활용하세요.\"),\n",
    "    (\"human\", \"{user_input}\"),\n",
    "    MessagesPlaceholder(variable_name=\"messages\"),  # 도구 실행 결과 자리\n",
    "])\n",
    "\n",
    "llm_chain = prompt | llm_with_tools\n",
    "\n",
    "@chain\n",
    "def cafe_tool_chain(user_input: str, config: RunnableConfig):\n",
    "    # 초기 입력\n",
    "    input_ = {\"user_input\": user_input, \"messages\": []}\n",
    "\n",
    "    # LLM 호출 → 도구 사용 결정\n",
    "    ai_msg = llm_chain.invoke(input_, config=config)\n",
    "\n",
    "    # 도구 실행\n",
    "    tool_msgs = []\n",
    "    if ai_msg.tool_calls:\n",
    "        for tool_call in ai_msg.tool_calls:\n",
    "            print(f\"▶️ 도구 호출: {tool_call['name']}({tool_call['args']})\")\n",
    "            if tool_call[\"name\"] == \"db_search_cafe_func\":\n",
    "                tool_output = db_search_cafe_func.invoke(tool_call, config=config)\n",
    "            elif tool_call[\"name\"] == \"tavily_search_func\":\n",
    "                tool_output = tavily_search_func.invoke(tool_call, config=config)\n",
    "            elif tool_call[\"name\"] == \"wiki_summary\":\n",
    "                tool_output = wiki_summary.invoke(tool_call, config=config)\n",
    "\n",
    "            tool_msgs.append(ToolMessage(content=str(tool_output), tool_call_id=tool_call['id']))\n",
    "\n",
    "    # 도구 결과 포함 → 최종 답변 생성\n",
    "    input_[\"messages\"].extend([ai_msg, *tool_msgs])\n",
    "    return llm_chain.invoke(input_, config=config)\n",
    "\n",
    "print(\"==> 8. @chain 데코레이터를 사용한 도구 호출 체인 구현 완료!\")\n"
   ]
  },
  {
   "cell_type": "code",
   "execution_count": 44,
   "id": "12e451c2",
   "metadata": {},
   "outputs": [
    {
     "name": "stdout",
     "output_type": "stream",
     "text": [
      "▶️ 도구 호출: db_search_cafe_func({'query': '카페라테 가격 특징'})\n",
      "▶️ 도구 호출: wiki_summary({'query': '카페라테'})\n",
      "\n",
      "==> 9. 최종 답변 \n",
      "### 카페라테의 가격과 특징\n",
      "\n",
      "#### **가격**  \n",
      "로컬 카페 메뉴 데이터베이스에 따르면, 카페라테의 평균 가격은 **₩5,500**입니다. (지역/카페에 따라 변동 가능)\n",
      "\n",
      "#### **주요 특징**  \n",
      "1. **재료**  \n",
      "   - **에스프레소**와 **스팀 밀크**를 기본으로 합니다.  \n",
      "   - 우유 거품(폼)은 얇게(약 1cm) 추가되어 부드러운 질감을 강조합니다.  \n",
      "\n",
      "2. **맛과 질감**  \n",
      "   - 진한 에스프레소와 우유의 조화로 **크리미하고 부드러운 맛**이 특징입니다.  \n",
      "   - 카푸치노보다 우유 양이 많아 **덜 진하고 순한 풍미**를 가집니다.  \n",
      "\n",
      "3. **시각적 요소**  \n",
      "   - **라테 아트** (우유 거품으로 만드는 예술)로 시각적 즐거움을 제공합니다.  \n",
      "\n",
      "4. **역사적 배경**  \n",
      "   - 19세기 이탈리아 가정에서 유래했으며, 1980년대 스타벅스 등으로 대중화되었습니다.  \n",
      "   - 한국에서는 2000년대 프랜차이즈 커피숍 확산과 함께 인기를 얻었습니다.  \n",
      "\n",
      "5. **변형 메뉴**  \n",
      "   - 바닐라 라테, 카페모카, 비건 우유 대체 라테 등 다양한 변형이 존재합니다.  \n",
      "\n",
      "#### **카푸치노와의 차이점**  \n",
      "- **우유/거품 비율**: 카페라테는 우유 비중이 높고 거품이 적으며, 카푸치노는 우유 거품이 1/3을 차지합니다.  \n",
      "- **풍미**: 카페라테는 부드럽고 순한 맛, 카푸치노는 진한 커피 풍미가 강조됩니다.  \n",
      "\n",
      "> 📌 **참고**: 가격은 카페마다 차이가 있을 수 있으므로, 정확한 정보는 해당 카페에 문의하는 것이 좋습니다.\n"
     ]
    }
   ],
   "source": [
    "query = \"카페라테의 가격과 특징은 무엇인가요?\"\n",
    "response = cafe_tool_chain.invoke(query)\n",
    "\n",
    "print(\"\\n==> 9. 최종 답변 \")\n",
    "print(response.content)"
   ]
  }
 ],
 "metadata": {
  "kernelspec": {
   "display_name": "mylangchain-app-SBe-Yh6W-py3.12",
   "language": "python",
   "name": "python3"
  },
  "language_info": {
   "codemirror_mode": {
    "name": "ipython",
    "version": 3
   },
   "file_extension": ".py",
   "mimetype": "text/x-python",
   "name": "python",
   "nbconvert_exporter": "python",
   "pygments_lexer": "ipython3",
   "version": "3.12.7"
  }
 },
 "nbformat": 4,
 "nbformat_minor": 5
}
