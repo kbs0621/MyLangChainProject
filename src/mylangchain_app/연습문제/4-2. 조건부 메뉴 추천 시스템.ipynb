{
 "cells": [
  {
   "cell_type": "code",
   "execution_count": 23,
   "id": "708c2c2d",
   "metadata": {},
   "outputs": [
    {
     "name": "stdout",
     "output_type": "stream",
     "text": [
      "sk\n",
      "==> 0. 사전 준비 LLM 및 벡터 DB 로드 완료\n"
     ]
    }
   ],
   "source": [
    "# 0. 공통 준비: 환경 변수 & 주요 라이브러리\n",
    "import os\n",
    "from dotenv import load_dotenv\n",
    "import re\n",
    "\n",
    "# 타입 관련\n",
    "from typing import TypedDict, Annotated, List\n",
    "\n",
    "# LangChain 기본 메시지\n",
    "from langchain_core.messages import BaseMessage, HumanMessage, AIMessage\n",
    "\n",
    "# 벡터 DB & OpenAI\n",
    "from langchain_community.vectorstores import FAISS\n",
    "from langchain_openai import OpenAIEmbeddings, ChatOpenAI\n",
    "\n",
    "# 문서 타입\n",
    "from langchain_core.documents import Document\n",
    "\n",
    "# LangGraph\n",
    "from langgraph.graph import StateGraph, END\n",
    "from langgraph.graph.message import add_messages\n",
    "\n",
    "# 환경 변수 로드\n",
    "load_dotenv()\n",
    "\n",
    "OPENAI_API_KEY = os.getenv(\"OPENAI_API_KEY\")\n",
    "print(OPENAI_API_KEY[:2])\n",
    "\n",
    "\n",
    "# --- 사전 준비: LLM 및 벡터 DB 로드 ---\n",
    "llm = ChatOpenAI(model=\"gpt-4o\", temperature=0)\n",
    "embeddings = OpenAIEmbeddings()\n",
    "\n",
    "# 생성한 DB(cafe_db) 로드\n",
    "try:\n",
    "    cafe_db = FAISS.load_local(\"./db/cafe_db\", embeddings, allow_dangerous_deserialization=True)\n",
    "except RuntimeError as e:\n",
    "    print(\"DB 로드 실패! 먼저 problem_4_1.ipynb를 실행하여 DB를 생성해주세요.\")\n",
    "    print(e)\n",
    "    exit()\n",
    "\n",
    "print(\"==> 0. 사전 준비 LLM 및 벡터 DB 로드 완료\")"
   ]
  },
  {
   "cell_type": "code",
   "execution_count": 25,
   "id": "e2264b43",
   "metadata": {},
   "outputs": [
    {
     "name": "stdout",
     "output_type": "stream",
     "text": [
      "==> 1. 상태 정의 완료\n"
     ]
    }
   ],
   "source": [
    "# 1. 상태 정의\n",
    "from typing import TypedDict, Annotated\n",
    "from langgraph.graph.message import add_messages\n",
    "\n",
    "class State(TypedDict):\n",
    "    messages: Annotated[list, add_messages]\n",
    "\n",
    "\n",
    "print(\"==> 1. 상태 정의 완료\")"
   ]
  },
  {
   "cell_type": "code",
   "execution_count": 26,
   "id": "b2b32525",
   "metadata": {},
   "outputs": [
    {
     "name": "stdout",
     "output_type": "stream",
     "text": [
      "==> 2. 고급 정보 추출 함수 정의 완료\n"
     ]
    }
   ],
   "source": [
    "# 2. 고급 정보 추출 함수\n",
    "import re\n",
    "from langchain_core.documents import Document\n",
    "\n",
    "def extract_menu_info(doc: Document) -> dict:\n",
    "    \"\"\"Vector DB 문서에서 구조화된 메뉴 정보 추출\"\"\"\n",
    "    content = doc.page_content.strip()\n",
    "\n",
    "    menu_match = re.search(r'^\\d+\\.\\s*(.*)', content)\n",
    "    price_match = re.search(r'•\\s*가격:\\s*(.*)', content)\n",
    "    description_match = re.search(r'•\\s*설명:\\s*(.*)', content)\n",
    "\n",
    "    return {\n",
    "        \"name\": menu_match.group(1).strip() if menu_match else \"메뉴 정보 없음\",\n",
    "        \"price\": price_match.group(1).strip() if price_match else \"가격 정보 없음\",\n",
    "        \"description\": description_match.group(1).strip() if description_match else \"설명 없음\"\n",
    "    }\n",
    "\n",
    "\n",
    "print(\"==> 2. 고급 정보 추출 함수 정의 완료\")"
   ]
  },
  {
   "cell_type": "code",
   "execution_count": 27,
   "id": "73fc48fe",
   "metadata": {},
   "outputs": [
    {
     "name": "stdout",
     "output_type": "stream",
     "text": [
      "==> 3-1. classify_query 함수 정의 완료\n",
      "==> 3-2. cafe_menu_query 함수 정의 완료\n",
      "==> 3-3. cafe_price_query 함수 정의 완료\n",
      "==> 3-4. cafe_recommendation_request 함수 정의 완료\n",
      "==> 3-5. cafe_general_conversation 함수 정의 완료\n"
     ]
    }
   ],
   "source": [
    "from langchain_core.messages import AIMessage, HumanMessage\n",
    "\n",
    "# 3. 노드(Node) 함수 정의\n",
    "def classify_query(state: State):\n",
    "    user_message = state[\"messages\"][-1].content\n",
    "    \n",
    "    if \"가격\" in user_message or \"얼마\" in user_message:\n",
    "        return \"price_query\"\n",
    "    elif \"추천\" in user_message or \"어떤\" in user_message or \"뭐가\" in user_message:\n",
    "        return \"recommendation_request\"\n",
    "    elif any(keyword in user_message for keyword in [\"메뉴\", \"뭐 있어\", \"종류\", \"알려줘\", \"궁금해\"]):\n",
    "        menu_keywords = [\"아메리카노\", \"라떼\", \"카푸치노\", \"프라푸치노\", \"마키아토\", \"콜드브루\", \"티라미수\"]\n",
    "        if any(menu in user_message for menu in menu_keywords):\n",
    "            return \"menu_query\"\n",
    "        return \"menu_query\"\n",
    "    else:\n",
    "        return \"general_conversation\"\n",
    "    \n",
    "\n",
    "print(\"==> 3-1. classify_query 함수 정의 완료\")\n",
    "\n",
    "def cafe_menu_query(state: State):\n",
    "    user_message = state[\"messages\"][-1].content\n",
    "    docs = cafe_db.similarity_search(user_message, k=4)\n",
    "    if not docs:\n",
    "        response_content = \"죄송합니다, 해당 메뉴에 대한 정보를 찾을 수 없습니다.\"\n",
    "    else:\n",
    "        info = extract_menu_info(docs[0])\n",
    "        response_content = f\"**{info['name']}**에 대한 정보입니다. \\n- **설명**: {info['description']} \\n- **가격**: {info['price']}\"\n",
    "    return {\"messages\": [AIMessage(content=response_content)]}\n",
    "\n",
    "\n",
    "print(\"==> 3-2. cafe_menu_query 함수 정의 완료\")\n",
    "\n",
    "def cafe_price_query(state: State):\n",
    "    user_message = state[\"messages\"][-1].content\n",
    "    docs = cafe_db.similarity_search(f\"{user_message} 가격\", k=5) \n",
    "    if not docs:\n",
    "        response_content = \"죄송합니다, 가격 정보를 찾을 수 없습니다.\"\n",
    "    else:\n",
    "        info = extract_menu_info(docs[0])\n",
    "        response_content = f\"문의하신 **{info['name']}**의 가격은 **{info['price']}** 입니다.\"\n",
    "    return {\"messages\": [AIMessage(content=response_content)]}\n",
    "\n",
    "\n",
    "print(\"==> 3-3. cafe_price_query 함수 정의 완료\")\n",
    "\n",
    "def cafe_recommendation_request(state: State):\n",
    "    user_message = state[\"messages\"][-1].content\n",
    "    docs = cafe_db.similarity_search(user_message, k=3)\n",
    "    if not docs:\n",
    "        docs = cafe_db.similarity_search(\"인기 있고 맛있는 메뉴\", k=3)\n",
    "    \n",
    "    info_list = [extract_menu_info(doc) for doc in docs]\n",
    "    response_parts = [f\"- **{info['name']}**: {info['description']} (가격: {info['price']})\" for info in info_list]\n",
    "    response_content = \"이런 메뉴는 어떤가요? \\n\" + \"\\n\".join(response_parts)\n",
    "    return {\"messages\": [AIMessage(content=response_content)]}\n",
    "\n",
    "\n",
    "print(\"==> 3-4. cafe_recommendation_request 함수 정의 완료\")\n",
    "\n",
    "\n",
    "def cafe_general_conversation(state: State):\n",
    "    response = llm.invoke(state[\"messages\"])\n",
    "    return {\"messages\": [response]}\n",
    "\n",
    "\n",
    "\n",
    "print(\"==> 3-5. cafe_general_conversation 함수 정의 완료\")\n"
   ]
  },
  {
   "cell_type": "code",
   "execution_count": 28,
   "id": "3bf8fba1",
   "metadata": {},
   "outputs": [
    {
     "name": "stdout",
     "output_type": "stream",
     "text": [
      "==> 4. 그래프 구성 완료\n"
     ]
    }
   ],
   "source": [
    "# 4. 그래프(Graph) 구성\n",
    "from langgraph.graph import StateGraph, END\n",
    "\n",
    "def classify_query(state: State):\n",
    "    user_message = state[\"messages\"][-1].content\n",
    "    \n",
    "    if \"가격\" in user_message or \"얼마\" in user_message:\n",
    "        return \"price_query\"\n",
    "    elif \"추천\" in user_message or \"어떤\" in user_message or \"뭐가\" in user_message:\n",
    "        return \"recommendation_request\"\n",
    "    elif any(keyword in user_message for keyword in [\"메뉴\", \"뭐 있어\", \"종류\", \"알려줘\", \"궁금해\"]):\n",
    "        menu_keywords = [\"아메리카노\", \"라떼\", \"카푸치노\", \"프라푸치노\", \"마키아토\", \"콜드브루\", \"티라미수\"]\n",
    "        if any(menu in user_message for menu in menu_keywords):\n",
    "            return \"menu_query\"\n",
    "        return \"menu_query\"\n",
    "    else:\n",
    "        return \"general_conversation\"\n",
    "\n",
    "graph_builder = StateGraph(State)\n",
    "\n",
    "graph_builder.add_node(\"menu_query\", cafe_menu_query)\n",
    "graph_builder.add_node(\"price_query\", cafe_price_query)\n",
    "graph_builder.add_node(\"recommendation_request\", cafe_recommendation_request)\n",
    "graph_builder.add_node(\"general_conversation\", cafe_general_conversation)\n",
    "\n",
    "graph_builder.set_conditional_entry_point(\n",
    "    classify_query,\n",
    "    {\n",
    "        \"menu_query\": \"menu_query\",\n",
    "        \"price_query\": \"price_query\",\n",
    "        \"recommendation_request\": \"recommendation_request\",\n",
    "        \"general_conversation\": \"general_conversation\",\n",
    "    }\n",
    ")\n",
    "\n",
    "graph_builder.add_edge(\"menu_query\", END)\n",
    "graph_builder.add_edge(\"price_query\", END)\n",
    "graph_builder.add_edge(\"recommendation_request\", END)\n",
    "graph_builder.add_edge(\"general_conversation\", END)\n",
    "\n",
    "graph = graph_builder.compile()\n",
    "\n",
    "\n",
    "print(\"==> 4. 그래프 구성 완료\")\n",
    "\n"
   ]
  },
  {
   "cell_type": "code",
   "execution_count": 30,
   "id": "670df45f",
   "metadata": {},
   "outputs": [
    {
     "name": "stdout",
     "output_type": "stream",
     "text": [
      "==> 5. 테스트 실행\n",
      "==> 사용자: 안녕!\n",
      "==> AI: 안녕하세요! 어떻게 도와드릴까요?\n",
      "------------------------------\n",
      "==> 사용자: 커피 추천해줘\n",
      "==> AI: 이런 메뉴는 어떤가요? \n",
      "- **콜드브루**: 찬물에 12-24시간 우려낸 콜드브루 원액을 사용한 시원한 커피입니다. 부드럽고 달콤한 맛이 특징이며, 산미가 적어 누구나 부담 없이 즐길 수 있습니다. 얼음과 함께 시원하게 제공됩니다. (가격: ₩5,000)\n",
      "- **아메리카노**: 진한 에스프레소에 뜨거운 물을 더해 만든 클래식한 블랙 커피입니다. 원두 본연의 맛을 가장 잘 느낄 수 있으며, 깔끔하고 깊은 풍미가 특징입니다. 설탕이나 시럽 추가 가능합니다. (가격: ₩4,500)\n",
      "- **카페라떼**: 진한 에스프레소에 부드럽게 스팀한 우유를 넣어 만든 대표적인 밀크 커피입니다. 크리미한 질감과 부드러운 맛이 특징이며, 다양한 시럽과 토핑 추가가 가능합니다. 라떼 아트로 시각적 즐거움도 제공합니다. (가격: ₩5,500)\n",
      "------------------------------\n",
      "==> 사용자: 프라푸치노 가격이 얼마인가요?\n",
      "==> AI: 문의하신 **프라푸치노**의 가격은 **₩7,000** 입니다.\n",
      "------------------------------\n",
      "==> 사용자: 티라미수 궁금해\n",
      "==> AI: **티라미수**에 대한 정보입니다. \n",
      "- **설명**: 이탈리아 전통 디저트로 마스카포네 치즈와 에스프레소에 적신 레이디핑거를 층층이 쌓아 만들었습니다. 부드럽고 달콤한 맛이 특징이며, 코코아 파우더로 마무리하여 깊은 풍미를 자랑합니다. \n",
      "- **가격**: ₩7,500\n",
      "------------------------------\n"
     ]
    }
   ],
   "source": [
    "# 5. 테스트 구성\n",
    "def test_conversation(query: str):\n",
    "    print(f\"==> 사용자: {query}\")\n",
    "    events = graph.stream({\"messages\": [HumanMessage(content=query)]})\n",
    "    for event in events:\n",
    "        if \"messages\" in event.get(list(event.keys())[0], {}):\n",
    "            last_message = event.get(list(event.keys())[0])[\"messages\"][-1]\n",
    "            if isinstance(last_message, AIMessage):\n",
    "                print(f\"==> AI: {last_message.content}\")\n",
    "    print(\"-\" * 30)\n",
    "\n",
    "\n",
    "# 테스트 실행\n",
    "print(\"==> 5. 테스트 실행\")\n",
    "test_conversation(\"안녕!\")\n",
    "test_conversation(\"커피 추천해줘\")\n",
    "test_conversation(\"프라푸치노 가격이 얼마인가요?\")\n",
    "test_conversation(\"티라미수 궁금해\")"
   ]
  }
 ],
 "metadata": {
  "kernelspec": {
   "display_name": "mylangchain-app-SBe-Yh6W-py3.12",
   "language": "python",
   "name": "python3"
  },
  "language_info": {
   "codemirror_mode": {
    "name": "ipython",
    "version": 3
   },
   "file_extension": ".py",
   "mimetype": "text/x-python",
   "name": "python",
   "nbconvert_exporter": "python",
   "pygments_lexer": "ipython3",
   "version": "3.12.7"
  }
 },
 "nbformat": 4,
 "nbformat_minor": 5
}
