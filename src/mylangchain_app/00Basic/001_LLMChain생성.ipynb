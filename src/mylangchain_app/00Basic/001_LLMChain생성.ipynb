{
 "cells": [
  {
   "cell_type": "markdown",
   "id": "ed0f96f1-910f-438f-876f-9eff119c2b0a",
   "metadata": {
    "id": "ed0f96f1-910f-438f-876f-9eff119c2b0a"
   },
   "source": [
    "### LLM Chain 만들기\n"
   ]
  },
  {
   "cell_type": "markdown",
   "id": "5a5b1e2f-9d67-4d01-9a8c-83ced6b711a9",
   "metadata": {
    "id": "5a5b1e2f-9d67-4d01-9a8c-83ced6b711a9"
   },
   "source": [
    "## 1. 환경 구성"
   ]
  },
  {
   "cell_type": "markdown",
   "id": "b03b7854-f96a-47fc-b3c7-b2bdfb55df81",
   "metadata": {
    "id": "b03b7854-f96a-47fc-b3c7-b2bdfb55df81"
   },
   "source": [
    "### 1) 라이브러리 설치"
   ]
  },
  {
   "cell_type": "code",
   "execution_count": null,
   "id": "4cd87a33-0a37-461b-8f37-3c142e60b1f6",
   "metadata": {
    "colab": {
     "base_uri": "https://localhost:8080/"
    },
    "id": "4cd87a33-0a37-461b-8f37-3c142e60b1f6",
    "outputId": "c96ed02d-19b7-4e90-d92e-1ae52895e303"
   },
   "outputs": [],
   "source": [
    "# poetry add python-dotenv langchain langchain-openai"
   ]
  },
  {
   "cell_type": "markdown",
   "id": "55152049-e9e5-4952-8e19-409f58cf3ac9",
   "metadata": {
    "id": "55152049-e9e5-4952-8e19-409f58cf3ac9"
   },
   "source": [
    "### 2) OpenAI 인증키 설정\n",
    "https://openai.com/"
   ]
  },
  {
   "cell_type": "code",
   "execution_count": 1,
   "id": "b76f68a8-4745-4377-8057-6090b87377d1",
   "metadata": {
    "id": "b76f68a8-4745-4377-8057-6090b87377d1"
   },
   "outputs": [
    {
     "name": "stdout",
     "output_type": "stream",
     "text": [
      "gsk_e\n"
     ]
    }
   ],
   "source": [
    "from dotenv import load_dotenv\n",
    "import os\n",
    "# .env 파일을 불러와서 환경 변수로 설정\n",
    "load_dotenv(dotenv_path='.env')\n",
    "\n",
    "OPENAI_API_KEY = os.getenv(\"OPENAI_API_KEY\")\n",
    "print(OPENAI_API_KEY[:5])"
   ]
  },
  {
   "cell_type": "code",
   "execution_count": 2,
   "id": "e09aaca6-5aa2-4b52-bbfc-196e808dc5cb",
   "metadata": {},
   "outputs": [
    {
     "name": "stdout",
     "output_type": "stream",
     "text": [
      "0.3.27\n"
     ]
    }
   ],
   "source": [
    "import langchain\n",
    "print(langchain.__version__)"
   ]
  },
  {
   "cell_type": "markdown",
   "id": "fc01c50a-32cf-49af-891a-f9b17fa0bd6c",
   "metadata": {
    "id": "fc01c50a-32cf-49af-891a-f9b17fa0bd6c"
   },
   "source": [
    "## 2. LLM Chain"
   ]
  },
  {
   "cell_type": "markdown",
   "id": "23729d10-9600-415b-b7d1-f954665224e3",
   "metadata": {
    "id": "23729d10-9600-415b-b7d1-f954665224e3"
   },
   "source": [
    "### 1) Prompt + LLM\n"
   ]
  },
  {
   "cell_type": "code",
   "execution_count": 3,
   "id": "on0y4xF8VoyE",
   "metadata": {
    "id": "on0y4xF8VoyE"
   },
   "outputs": [
    {
     "name": "stdout",
     "output_type": "stream",
     "text": [
      "<class 'langchain_core.messages.ai.AIMessage'>\n"
     ]
    }
   ],
   "source": [
    "from langchain_openai import ChatOpenAI\n",
    "\n",
    "# model\n",
    "# llm = ChatOpenAI(model=\"gpt-3.5-turbo-0125\")\n",
    "llm = ChatOpenAI(\n",
    "    api_key=OPENAI_API_KEY,\n",
    "    base_url=\"https://api.groq.com/openai/v1\",  # Groq API 엔드포인트\n",
    "    model=\"meta-llama/llama-4-scout-17b-16e-instruct\",  # Spring AI와 동일한 모델\n",
    "    temperature=0.7\n",
    ")\n",
    "\n",
    "# chain 실행\n",
    "result = llm.invoke(\"인공지능 모델의 학습 원리에 대하여 쉽게 설명해 주세요.\")\n",
    "print(type(result))"
   ]
  },
  {
   "cell_type": "code",
   "execution_count": 4,
   "id": "4dc4accf-c927-40a3-ba2c-f891c94c34f0",
   "metadata": {},
   "outputs": [
    {
     "name": "stdout",
     "output_type": "stream",
     "text": [
      "content='인공지능 모델의 학습 원리는 다음과 같습니다.\\n\\n1.  **데이터 수집**: 인공지능 모델을 학습시키기 위해서는 대량의 데이터가 필요합니다. 이 데이터는 문제에 대한 답을 포함하고 있어야 합니다.\\n\\n2.  **데이터 전처리**: 수집된 데이터는 모델에 입력하기 전에 전처리 과정을 거칩니다. 이 과정에서는 데이터의 노이즈를 제거하거나, 데이터를 정규화하는 등의 작업이 포함됩니다.\\n\\n3.  **모델 선택**: 인공지능 모델에는 여러 가지 종류가 있습니다. 예를 들어, 이미지 인식에는 합성곱 신경망(CNN), 자연어 처리에는 순환 신경망(RNN)이나 트랜스포머 등이 있습니다.\\n\\n4.  **모델 학습**: 선택된 모델에 전처리된 데이터를 입력하여 모델을 학습시킵니다. 이 과정에서는 모델이 데이터를 분석하고, 패턴을 학습하며, 예측을 수행합니다.\\n\\n5.  **모델 평가**: 학습된 모델의 성능을 평가합니다. 이 과정에서는 모델이 얼마나 정확한 예측을 수행하는지, 그리고 얼마나 빠르게 예측을 수행하는지 등을 평가합니다.\\n\\n6.  **모델 개선**: 모델의 성능이 만족스럽지 않은 경우, 모델을 개선합니다. 이 과정에서는 모델의 구조를 변경하거나, 하이퍼파라미터를 조정하는 등의 작업이 포함됩니다.\\n\\n7.  **모델 배포**: 학습된 모델을 실제 환경에 배포합니다. 이 과정에서는 모델을 API로 감싸거나, 모델을 웹 서비스에 통합하는 등의 작업이 포함됩니다.\\n\\n예를 들어, 이미지 인식 모델을 학습시키는 경우를 생각해 봅시다. 이미지 인식 모델은 이미지를 입력으로 받아서, 이미지의 내용을 예측합니다. 이 모델을 학습시키기 위해서는 대량의 이미지 데이터가 필요합니다. 이 데이터는 이미지와 그에 대한 설명(레이블)으로 구성됩니다.\\n\\n모델은 이미지를 분석하여, 패턴을 학습하며, 예측을 수행합니다. 이 과정에서는 모델이 얼마나 정확한 예측을 수행하는지, 그리고 얼마나 빠르게 예측을 수행하는지 등을 평가합니다.\\n\\n모델의 성능이 만족스럽지 않은 경우, 모델을 개선합니다. 이 과정에서는 모델의 구조를 변경하거나, 하이퍼파라미터를 조정하는 등의 작업이 포함됩니다.\\n\\n마지막으로, 학습된 모델을 실제 환경에 배포합니다. 이 과정에서는 모델을 API로 감싸거나, 모델을 웹 서비스에 통합하는 등의 작업이 포함됩니다.' additional_kwargs={'refusal': None} response_metadata={'token_usage': {'completion_tokens': 494, 'prompt_tokens': 24, 'total_tokens': 518, 'completion_tokens_details': None, 'prompt_tokens_details': None, 'queue_time': 0.224336364, 'prompt_time': 0.000649929, 'completion_time': 1.1718445530000001, 'total_time': 1.172494482}, 'model_name': 'meta-llama/llama-4-scout-17b-16e-instruct', 'system_fingerprint': 'fp_79da0e0073', 'id': 'chatcmpl-211b52ea-d845-4fd4-be53-0f25c8c49c73', 'service_tier': 'on_demand', 'finish_reason': 'stop', 'logprobs': None} id='run--46c96496-9a1e-4570-89e1-a4c4a9fba576-0' usage_metadata={'input_tokens': 24, 'output_tokens': 494, 'total_tokens': 518, 'input_token_details': {}, 'output_token_details': {}}\n"
     ]
    }
   ],
   "source": [
    "print(result)"
   ]
  },
  {
   "cell_type": "code",
   "execution_count": 5,
   "id": "WzcZy4PruV1n",
   "metadata": {
    "colab": {
     "base_uri": "https://localhost:8080/",
     "height": 54
    },
    "id": "WzcZy4PruV1n",
    "outputId": "18ecc8f9-5748-4b16-cb07-4a0f7a01fb5a"
   },
   "outputs": [
    {
     "name": "stdout",
     "output_type": "stream",
     "text": [
      "인공지능 모델의 학습 원리는 다음과 같습니다.\n",
      "\n",
      "1.  **데이터 수집**: 인공지능 모델을 학습시키기 위해서는 대량의 데이터가 필요합니다. 이 데이터는 문제에 대한 답을 포함하고 있어야 합니다.\n",
      "\n",
      "2.  **데이터 전처리**: 수집된 데이터는 모델에 입력하기 전에 전처리 과정을 거칩니다. 이 과정에서는 데이터의 노이즈를 제거하거나, 데이터를 정규화하는 등의 작업이 포함됩니다.\n",
      "\n",
      "3.  **모델 선택**: 인공지능 모델에는 여러 가지 종류가 있습니다. 예를 들어, 이미지 인식에는 합성곱 신경망(CNN), 자연어 처리에는 순환 신경망(RNN)이나 트랜스포머 등이 있습니다.\n",
      "\n",
      "4.  **모델 학습**: 선택된 모델에 전처리된 데이터를 입력하여 모델을 학습시킵니다. 이 과정에서는 모델이 데이터를 분석하고, 패턴을 학습하며, 예측을 수행합니다.\n",
      "\n",
      "5.  **모델 평가**: 학습된 모델의 성능을 평가합니다. 이 과정에서는 모델이 얼마나 정확한 예측을 수행하는지, 그리고 얼마나 빠르게 예측을 수행하는지 등을 평가합니다.\n",
      "\n",
      "6.  **모델 개선**: 모델의 성능이 만족스럽지 않은 경우, 모델을 개선합니다. 이 과정에서는 모델의 구조를 변경하거나, 하이퍼파라미터를 조정하는 등의 작업이 포함됩니다.\n",
      "\n",
      "7.  **모델 배포**: 학습된 모델을 실제 환경에 배포합니다. 이 과정에서는 모델을 API로 감싸거나, 모델을 웹 서비스에 통합하는 등의 작업이 포함됩니다.\n",
      "\n",
      "예를 들어, 이미지 인식 모델을 학습시키는 경우를 생각해 봅시다. 이미지 인식 모델은 이미지를 입력으로 받아서, 이미지의 내용을 예측합니다. 이 모델을 학습시키기 위해서는 대량의 이미지 데이터가 필요합니다. 이 데이터는 이미지와 그에 대한 설명(레이블)으로 구성됩니다.\n",
      "\n",
      "모델은 이미지를 분석하여, 패턴을 학습하며, 예측을 수행합니다. 이 과정에서는 모델이 얼마나 정확한 예측을 수행하는지, 그리고 얼마나 빠르게 예측을 수행하는지 등을 평가합니다.\n",
      "\n",
      "모델의 성능이 만족스럽지 않은 경우, 모델을 개선합니다. 이 과정에서는 모델의 구조를 변경하거나, 하이퍼파라미터를 조정하는 등의 작업이 포함됩니다.\n",
      "\n",
      "마지막으로, 학습된 모델을 실제 환경에 배포합니다. 이 과정에서는 모델을 API로 감싸거나, 모델을 웹 서비스에 통합하는 등의 작업이 포함됩니다.\n"
     ]
    }
   ],
   "source": [
    "print(result.content)"
   ]
  },
  {
   "cell_type": "markdown",
   "id": "0e5c97fc",
   "metadata": {},
   "source": [
    "### 2) PromptTemplate + LLM"
   ]
  },
  {
   "cell_type": "code",
   "execution_count": 6,
   "id": "SeNi_VXqYD-b",
   "metadata": {
    "id": "SeNi_VXqYD-b"
   },
   "outputs": [
    {
     "name": "stdout",
     "output_type": "stream",
     "text": [
      "<class 'langchain_core.prompts.prompt.PromptTemplate'>\n",
      "input_variables=['input'] input_types={} partial_variables={} template='You are an expert in AI Expert. Answer the question. <Question>: {input}에 대해 쉽게 설명해주세요.'\n"
     ]
    }
   ],
   "source": [
    "from langchain_core.prompts import PromptTemplate\n",
    "\n",
    "prompt = PromptTemplate.from_template(\"You are an expert in AI Expert. Answer the question. <Question>: {input}에 대해 쉽게 설명해주세요.\")\n",
    "\n",
    "print(type(prompt))\n",
    "print(prompt)"
   ]
  },
  {
   "cell_type": "code",
   "execution_count": 7,
   "id": "01WLucSpYjZt",
   "metadata": {
    "id": "01WLucSpYjZt"
   },
   "outputs": [
    {
     "name": "stdout",
     "output_type": "stream",
     "text": [
      "<class 'langchain_core.runnables.base.RunnableSequence'>\n",
      "<class 'langchain_core.messages.ai.AIMessage'>\n",
      "content=\"인공지능 모델의 학습 원리는 사람의 뇌가 학습하는 원리와 유사합니다. 컴퓨터가 데이터를 통해 배우고, 패턴을 인식하며, 예측이나 분류를 더 잘하도록 만드는 과정이라고 생각하시면 됩니다.\\n\\n1. **데이터 수집**: 인공지능 모델을 학습시키기 위해서는 많은 양의 데이터가 필요합니다. 이 데이터는 문제에 따라 달라지며, 이미지, 텍스트, 오디오 등 다양한 형태가 될 수 있습니다.\\n\\n2. **데이터 전처리**: 수집된 데이터는 모델에 사용하기 전에 정리하고 가공하는 과정을 거칩니다. 데이터의 품질이 좋지 않으면 모델의 성능에도 영향을 미치므로, 이 단계는 매우 중요합니다.\\n\\n3. **모델 선택**: 인공지능 모델에는 여러 종류가 있습니다. 예를 들어, 이미지 인식에는 합성곱 신경망(CNN), 자연어 처리에는 순환 신경망(RNN) 또는 트랜스포머 모델을 사용할 수 있습니다. 문제를 해결하기 적합한 모델을 선택해야 합니다.\\n\\n4. **학습**: 선택된 모델에 데이터를 입력하여 학습시킵니다. 이 과정에서는 모델이 데이터를 분석하고, 패턴을 찾고, 규칙을 만들어가는 과정이 포함됩니다. 모델은 예측을 하고, 실제 결과와 비교하여 오류를 계산합니다. 그런 다음, 이 오류를 최소화하기 위해 모델의 내부 매개변수(가중치)를 조정하는 과정을 반복합니다. 이 과정은 '역전파(backpropagation)'라고 하며, 모델이 학습하는 핵심 과정입니다.\\n\\n5. **평가**: 학습이 완료된 후, 모델의 성능을 평가합니다. 이를 위해 학습 데이터와는 별도의 테스트 데이터를 사용합니다. 모델이 테스트 데이터에 대해 얼마나 잘 작동하는지 확인하여, 모델의 정확도, 정밀도, 재현율 등의 지표를 평가합니다.\\n\\n6. **튜닝 및 배포**: 평가 결과에 따라 모델의 성능을 더 좋게 만들기 위해 하이퍼파라미터를 조정하거나, 모델 구조를 변경하는 등의 튜닝 과정을 거칩니다. 최종적으로 모델을 실제 환경에 배포하여 사용합니다.\\n\\n이와 같은 과정을 통해 인공지능 모델은 지속적으로 학습하고, 개선되어 보다 정확한 예측과 효율적인 작업을 수행할 수 있게 됩니다.\" additional_kwargs={'refusal': None} response_metadata={'token_usage': {'completion_tokens': 447, 'prompt_tokens': 36, 'total_tokens': 483, 'completion_tokens_details': None, 'prompt_tokens_details': None, 'queue_time': 0.205202751, 'prompt_time': 0.00064497, 'completion_time': 1.088637527, 'total_time': 1.089282497}, 'model_name': 'meta-llama/llama-4-scout-17b-16e-instruct', 'system_fingerprint': 'fp_79da0e0073', 'id': 'chatcmpl-07424e7e-a0a8-461d-9966-b72d08998d6c', 'service_tier': 'on_demand', 'finish_reason': 'stop', 'logprobs': None} id='run--486c76dd-f2c6-4db7-b1e4-3b0a025ccf86-0' usage_metadata={'input_tokens': 36, 'output_tokens': 447, 'total_tokens': 483, 'input_token_details': {}, 'output_token_details': {}}\n"
     ]
    }
   ],
   "source": [
    "from langchain_openai import ChatOpenAI\n",
    "\n",
    "# llm = ChatOpenAI(model=\"gpt-3.5-turbo-0125\")\n",
    "llm = ChatOpenAI(\n",
    "    api_key=OPENAI_API_KEY,\n",
    "    base_url=\"https://api.groq.com/openai/v1\",  # Groq API 엔드포인트\n",
    "    model=\"meta-llama/llama-4-scout-17b-16e-instruct\",  # Spring AI와 동일한 모델\n",
    "    temperature=0.7\n",
    ")\n",
    "# chain 연결 (LCEL)\n",
    "chain = prompt | llm\n",
    "print(type(chain))\n",
    "\n",
    "# chain 호출\n",
    "result = chain.invoke({\"input\": \"인공지능 모델의 학습 원리\"})\n",
    "print(type(result))\n",
    "print(result)"
   ]
  },
  {
   "cell_type": "code",
   "execution_count": 11,
   "id": "170ec878",
   "metadata": {},
   "outputs": [
    {
     "name": "stdout",
     "output_type": "stream",
     "text": [
      "인공지능 모델의 학습 원리는 사람의 뇌가 학습하는 원리와 유사합니다. 컴퓨터가 데이터를 통해 스스로 학습할 수 있도록 하는 것입니다.\n",
      "\n",
      "예를 들어, 고양이와 강아지의 사진을 분류하는 모델을 만든다고 가정해 봅시다. 이 모델에 고양이와 강아지의 사진을 많이 보여주면서 '이것은 고양이야', '이것은 강아지야'라고 알려주면, 모델은 이 사진들의 특징을 분석하기 시작합니다.\n",
      "\n",
      "고양이 사진에는 고양이의 특징인 귀가 있고, 강아지 사진에는 강아지 귀가 있습니다. 모델은 이 특징들을 학습하면서 고양이와 강아지를 구분하는 기준을 만듭니다.\n",
      "\n",
      "이렇게 모델이 학습하는 과정을 수식으로 나타내면, 다음과 같습니다.\n",
      "\n",
      "1. **데이터 수집**: 많은 양의 데이터(고양이와 강아지의 사진)를 수집합니다.\n",
      "2. **데이터 전처리**: 데이터를 컴퓨터가 처리할 수 있는 형태로 변환합니다.\n",
      "3. **모델 정의**: 모델의 구조를 정의합니다. (예: 신경망)\n",
      "4. **손실 함수 정의**: 모델의 성능을 평가하는 손실 함수를 정의합니다. (예: 크로스 엔트로피)\n",
      "5. **최적화 알고리즘 선택**: 모델의 가중치를 업데이트하는 최적화 알고리즘을 선택합니다. (예: 경사 하강법)\n",
      "6. **학습**: 모델을 학습합니다. (예: 고양이/강아지 분류)\n",
      "\n",
      "학습 과정에서는 모델의 가중치를 업데이트하면서 손실 함수를 최소화하는 방향으로 학습합니다. 이렇게 학습한 모델은 새로운 사진을 보여주었을 때, 고양이인지 강아지인지 분류할 수 있습니다.\n",
      "\n",
      "이러한 학습 원리는 다양한 인공지능 모델에 적용할 수 있으며, 모델의 성능을 높이는데 중요한 역할을 합니다.\n"
     ]
    }
   ],
   "source": [
    "print(result.content)"
   ]
  },
  {
   "cell_type": "markdown",
   "id": "56848a4c",
   "metadata": {},
   "source": [
    "### 3) PromptTemplate + LLM(invoke()) + StrOutputParser"
   ]
  },
  {
   "cell_type": "code",
   "execution_count": 12,
   "id": "5d1e9009",
   "metadata": {},
   "outputs": [
    {
     "name": "stdout",
     "output_type": "stream",
     "text": [
      "<class 'langchain_core.runnables.base.RunnableSequence'>\n",
      "<class 'str'>\n",
      "인공지능 모델의 학습 원리는 사람의 뇌가 학습하는 원리와 유사합니다. 사람의 뇌는 경험을 통해 학습하고, 이를 통해 새로운 상황에 대처할 수 있습니다. 인공지능 모델도 데이터를 통해 학습하고, 이를 통해 새로운 입력에 대한 출력을 예측할 수 있습니다.\n",
      "\n",
      "구체적으로 설명하면, 인공지능 모델의 학습 과정은 다음과 같습니다.\n",
      "\n",
      "1. **데이터 수집**: 인공지능 모델을 학습시키기 위해서는大量的한 데이터가 필요합니다. 이 데이터는 문제에 대한 입력과 출력으로 구성됩니다.\n",
      "\n",
      "2. **데이터 전처리**: 수집된 데이터는 모델에 입력되기 전에 전처리 과정을 거칩니다. 이 과정에서는 데이터의 품질을 높이고, 데이터의 크기를 줄이는 등의 작업이 수행됩니다.\n",
      "\n",
      "3. **모델 선택**: 인공지능 모델에는 여러 가지 유형이 있습니다. 문제의 성격에 따라 적합한 모델을 선택해야 합니다.\n",
      "\n",
      "4. **학습**: 선택된 모델에 전처리된 데이터를 입력하여 학습을 시작합니다. 이 과정에서 모델은 데이터의 패턴을 학습하고, 입력과 출력 사이의 관계를 발견하려고 합니다.\n",
      "\n",
      "5. **평가**: 학습이 완료된 후, 모델의 성능을 평가합니다. 이를 통해 모델의 정확도를 측정하고, 추가적인 조정이 필요한지 결정할 수 있습니다.\n",
      "\n",
      "6. **튜닝**: 모델의 성능이 만족스럽지 않은 경우, 모델의 하이퍼파рамет수를 조정하거나, 학습 데이터를 추가하는 등의 방법을 통해 모델을 개선할 수 있습니다.\n",
      "\n",
      "예를 들어, 이미지 분류 모델을 학습시키는 경우, 고양이와 강아지의 사진을大量的으로 수집하고, 이를 통해 모델이 고양이와 강아지를 구별할 수 있도록 학습시킵니다. 학습이 완료된 후, 새로운 이미지를 입력하면 모델은 이를 고양이 또는 강아지로 분류할 수 있습니다.\n",
      "\n",
      "이러한 학습 원리는 다양한 인공지능 모델에 적용될 수 있으며, 이를 통해 모델은 복잡한 문제를 해결할 수 있습니다.\n"
     ]
    }
   ],
   "source": [
    "from langchain_core.prompts import PromptTemplate\n",
    "from langchain_openai import ChatOpenAI\n",
    "from langchain_core.output_parsers import StrOutputParser\n",
    "\n",
    "# 1. 컴포넌트 정의\n",
    "prompt = PromptTemplate.from_template(\"You are an expert in AI Expert. Answer the question. <Question>: {input}에 대해 쉽게 설명해주세요.\")\n",
    "\n",
    "# llm = ChatOpenAI(model=\"gpt-3.5-turbo\")\n",
    "llm = ChatOpenAI(\n",
    "    api_key=OPENAI_API_KEY,\n",
    "    base_url=\"https://api.groq.com/openai/v1\",  # Groq API 엔드포인트\n",
    "    model=\"meta-llama/llama-4-scout-17b-16e-instruct\",  # Spring AI와 동일한 모델\n",
    "    temperature=0.7\n",
    ")\n",
    "\n",
    "output_parser = StrOutputParser()\n",
    "\n",
    "# 2. chain 생성 (LCEL)\n",
    "chain = prompt | llm | output_parser\n",
    "print(type(chain))\n",
    "\n",
    "# 3. chain의 invoke 호출\n",
    "result = chain.invoke({\"input\": \"인공지능 모델의 학습 원리\"})\n",
    "print(type(result))\n",
    "print(result)"
   ]
  },
  {
   "cell_type": "markdown",
   "id": "2d997b16",
   "metadata": {},
   "source": [
    "### 4) PromptTemplate + LLM(stream()) + StrOutputParser"
   ]
  },
  {
   "cell_type": "code",
   "execution_count": 8,
   "id": "684654e1",
   "metadata": {},
   "outputs": [
    {
     "name": "stdout",
     "output_type": "stream",
     "text": [
      "인공지능 모델의 학습 원리는 사람의 뇌가 학습하는 원리와 유사합니다. 예를 들어, 고양이를 인식하는 모델을 만든다고 가정해 보겠습니다.\n",
      "\n",
      "1. **데이터 수집**: 수많은 고양이와 고양이가 아닌 것들(예를 들어, 개, 자동차 등)의 사진들을 수집합니다. 이 사진들은 모델이 학습하는데 필요한 데이터입니다.\n",
      "\n",
      "2. **데이터 준비**: 수집한 사진들을 모델이 처리할 수 있도록 준비합니다. 이 과정에는 사진의 크기를 조정하거나, 흑백으로 변환하는 등의 작업이 포함될 수 있습니다.\n",
      "\n",
      "3. **모델 초기화**: 인공지능 모델을 초기화합니다. 이 모델은 처음에는 고양이를 인식하는 능력이 없습니다.\n",
      "\n",
      "4. **학습 과정**: \n",
      "   - 모델에 고양이 사진과 고양이가 아닌 사진들을 보여줍니다.\n",
      "   - 모델은 각 사진이 고양이인지 아닌지 예측합니다.\n",
      "   - 모델의 예측과 실제(고양이 또는 고양이 아님)를 비교하여 오류를 계산합니다.\n",
      "   - 모델은 오류를 줄이기 위해 스스로를 조정합니다. 이 과정은 '고양이 같은' 특징을 스스로 찾아내도록 모델을 개선하는 과정입니다.\n",
      "\n",
      "5. **반복**: 4번의 학습 과정을 여러 번 반복합니다. 매번 반복할 때마다 모델은 고양이의 특징을 더 잘 인식하게 됩니다.\n",
      "\n",
      "6. **평가**: 학습이 어느 정도 되었는지 평가합니다. 새로운 사진들을 모델에 보여주고 고양이를 얼마나 정확하게 인식하는지 확인합니다.\n",
      "\n",
      "7. **튜닝**: 필요하다면 모델의 구조를 조정하거나, 학습 데이터를 바꾸는 등의 튜닝을 합니다.\n",
      "\n",
      "이러한 과정을 통해 모델은 고양이의 특징을 스스로 학습하고, 새로운 고양이 사진을 보았을 때 이를 인식할 수 있게 됩니다.\n",
      "\n",
      "이 원리는 신경망을 기반으로 한 딥러닝 모델에도 동일하게 적용되며, 이를 통해 이미지 인식뿐만 아니라 자연어 처리, 음성 인식 등 다양한 분야에서 인공지능 모델이 뛰어난 성능을 발휘할 수 있습니다."
     ]
    }
   ],
   "source": [
    "\n",
    "from langchain_core.prompts import PromptTemplate\n",
    "from langchain_openai import ChatOpenAI\n",
    "from langchain_core.output_parsers import StrOutputParser\n",
    "\n",
    "# 1. 컴포넌트 정의\n",
    "prompt = PromptTemplate.from_template(\"You are an expert in AI Expert. Answer the question. <Question>: {input}에 대해 쉽게 설명해주세요.\")\n",
    "\n",
    "#llm = ChatOpenAI(model=\"gpt-3.5-turbo-0125\")\n",
    "lm = ChatOpenAI(\n",
    "    api_key=OPENAI_API_KEY,\n",
    "    base_url=\"https://api.groq.com/openai/v1\",  # Groq API 엔드포인트\n",
    "    model=\"meta-llama/llama-4-scout-17b-16e-instruct\",  # Spring AI와 동일한 모델\n",
    "    temperature=0.7\n",
    ")\n",
    "\n",
    "# chain 연결 (LCEL)\n",
    "chain = prompt | llm | StrOutputParser()\n",
    "\n",
    "# 스트리밍 출력을 위한 요청\n",
    "answer = chain.stream({\"input\": \"인공지능 모델의 학습 원리\"})\n",
    "# 스트리밍 출력\n",
    "#print(answer)\n",
    "\n",
    "for token in answer:\n",
    "    # 스트림에서 받은 데이터의 내용을 출력합니다. 줄바꿈 없이 이어서 출력하고, 버퍼를 즉시 비웁니다.\n",
    "    print(token, end=\"\", flush=True)"
   ]
  },
  {
   "cell_type": "markdown",
   "id": "b0188674-915f-41af-ac46-56f9f54289b0",
   "metadata": {
    "id": "b0188674-915f-41af-ac46-56f9f54289b0"
   },
   "source": [
    "##### 2) Multiple Chains\n",
    "* Multi Chain을 활용한 영화 추천 및 줄거리 요약"
   ]
  },
  {
   "cell_type": "code",
   "execution_count": 10,
   "id": "31678c55-38a8-4ca2-b437-9d4495946b0a",
   "metadata": {
    "colab": {
     "base_uri": "https://localhost:8080/",
     "height": 36
    },
    "id": "31678c55-38a8-4ca2-b437-9d4495946b0a",
    "outputId": "7ee83878-5d1a-45e3-f033-100da33f3ee9"
   },
   "outputs": [
    {
     "name": "stdout",
     "output_type": "stream",
     "text": [
      "<class 'str'>\n",
      " ===> 추천된 영화:\n",
      "**'사랑할 때 버려야 할 것들'** \n",
      "\n",
      "미국 드라마 영화입니다. \n",
      "\n",
      "영화 '사랑할 때 버려야 할 것들'은 2003년에 개봉하였습니다. \n",
      "\n",
      "**출연진**\n",
      "\n",
      "*   니콜 키드먼 \n",
      "*   조쉬 루카스 \n",
      "*   안젤리나 졸리\n",
      "\n",
      "**줄거리**\n",
      "\n",
      "전직 미식축구 선수인 마이클(조쉬 루카스 분)은 절친한 친구의 결혼식에서 우연히 줄리(니콜 키드먼 분)를 만나 사랑에 빠지게 됩니다. \n",
      "\n",
      "줄리는 남편과 사별한 후 아이를 낳아 기르고 있는 싱글맘입니다. \n",
      "\n",
      "마이클과 줄리는 서로에게 솔직한 감정을 표현하며, 서로를 사랑하게 됩니다. \n",
      "\n",
      "그러나 줄리의 아이는 마이클과 줄리의 관계에 대해 부정적인 태도를 보입니다. \n",
      "\n",
      "줄리는 마이클과의 관계와 아이와의 관계 사이에서 갈등을 겪게 됩니다. \n",
      "\n",
      "결국, 줄리는 마이클과 함께하기로 결심합니다. \n",
      "\n",
      "**리뷰**\n",
      "\n",
      "*   영화 '사랑할 때 버려야 할 것들'은 사랑과 가족, 그리고 희생에 대한 감동적인 이야기를 전달합니다. \n",
      "*   니콜 키드먼과 조쉬 루카스의 연기는 뛰어나며, 영화의 분위기는 따뜻하고 감동적입니다. \n",
      "*   이 영화는 사랑과 가족의 중요성을 강조하며, 시청자들에게 감동과 여운을 남깁니다.\n"
     ]
    }
   ],
   "source": [
    "from langchain_core.prompts import ChatPromptTemplate\n",
    "from langchain_openai import ChatOpenAI\n",
    "from langchain_core.output_parsers import StrOutputParser\n",
    "\n",
    "# Step 1: 사용자가 입력한 장르에 따라 영화 추천\n",
    "prompt1 = ChatPromptTemplate.from_template(\"{genre} 장르에서 추천할 만한 영화를 한 편 알려주세요.\")\n",
    "\n",
    "# Step 2: 추천된 영화의 줄거리를 요약\n",
    "prompt2 = ChatPromptTemplate.from_template(\"{movie} 추천한 영화의 제목을 먼저 알려주시고, 줄을 바꾸어서 영화의 정보(제목,감독,캐스팅,줄거리)를 알려 주세요\")\n",
    "\n",
    "# OpenAI 모델 사용\n",
    "# llm = ChatOpenAI(model=\"gpt-3.5-turbo-0125\")\n",
    "llm = ChatOpenAI(\n",
    "    api_key=OPENAI_API_KEY,\n",
    "    base_url=\"https://api.groq.com/openai/v1\",  # Groq API 엔드포인트\n",
    "    model=\"meta-llama/llama-4-scout-17b-16e-instruct\",  # Spring AI와 동일한 모델\n",
    "    temperature=0.7\n",
    ")\n",
    "\n",
    "# 체인 1: 영화 추천 (입력: 장르 → 출력: 영화 제목)\n",
    "chain1 = prompt1 | llm | StrOutputParser()\n",
    "\n",
    "# Step 1: 사용자가 입력한 장르에 따라 영화 추천\n",
    "movie = chain1.invoke({\"genre\": \"Drama\"})  # 영화 제목 얻기\n",
    "\n",
    "print(type(movie))\n",
    "print(\" ===> 추천된 영화:\")  # movie 값 출력\n",
    "print(movie)\n"
   ]
  },
  {
   "cell_type": "code",
   "execution_count": 11,
   "id": "16718b76-f59d-48f7-906f-5d2371417803",
   "metadata": {
    "colab": {
     "base_uri": "https://localhost:8080/",
     "height": 36
    },
    "id": "16718b76-f59d-48f7-906f-5d2371417803",
    "outputId": "6e3371cd-d294-4be7-a868-2eae5ee6e5de"
   },
   "outputs": [
    {
     "name": "stdout",
     "output_type": "stream",
     "text": [
      "first={\n",
      "  movie: ChatPromptTemplate(input_variables=['genre'], input_types={}, partial_variables={}, messages=[HumanMessagePromptTemplate(prompt=PromptTemplate(input_variables=['genre'], input_types={}, partial_variables={}, template='{genre} 장르에서 추천할 만한 영화를 한 편 알려주세요.'), additional_kwargs={})])\n",
      "         | ChatOpenAI(client=<openai.resources.chat.completions.completions.Completions object at 0x00000255F06E4C20>, async_client=<openai.resources.chat.completions.completions.AsyncCompletions object at 0x00000255F06E4830>, root_client=<openai.OpenAI object at 0x00000255F06E73E0>, root_async_client=<openai.AsyncOpenAI object at 0x00000255F06E7800>, model_name='meta-llama/llama-4-scout-17b-16e-instruct', temperature=0.7, model_kwargs={}, openai_api_key=SecretStr('**********'), openai_api_base='https://api.groq.com/openai/v1')\n",
      "         | StrOutputParser()\n",
      "} middle=[ChatPromptTemplate(input_variables=['movie'], input_types={}, partial_variables={}, messages=[HumanMessagePromptTemplate(prompt=PromptTemplate(input_variables=['movie'], input_types={}, partial_variables={}, template='{movie} 추천한 영화의 제목을 먼저 알려주시고, 줄을 바꾸어서 영화의 정보(제목,감독,캐스팅,줄거리)를 알려 주세요'), additional_kwargs={})]), ChatOpenAI(client=<openai.resources.chat.completions.completions.Completions object at 0x00000255F06E4C20>, async_client=<openai.resources.chat.completions.completions.AsyncCompletions object at 0x00000255F06E4830>, root_client=<openai.OpenAI object at 0x00000255F06E73E0>, root_async_client=<openai.AsyncOpenAI object at 0x00000255F06E7800>, model_name='meta-llama/llama-4-scout-17b-16e-instruct', temperature=0.7, model_kwargs={}, openai_api_key=SecretStr('**********'), openai_api_base='https://api.groq.com/openai/v1')] last=StrOutputParser()\n",
      "\n",
      "🔹 영화 줄거리 요약:\n",
      " Here is the movie information you requested:\n",
      "\n",
      "**The Notebook (2004)**\n",
      "\n",
      "* **Director:** Nick Cassavetes\n",
      "* **Cast:** Ryan Gosling, Rachel McAdams\n",
      "* **Genre:** Romance, Melodrama\n",
      "* **Plot:** A poor young man named Noah (Ryan Gosling) falls in love with a rich young woman named Allie (Rachel McAdams) at a summer camp. Noah writes Allie letters, but her mother doesn't deliver them. When Noah visits Allie's house, she doesn't remember him. Noah tries to revive their memories, and Allie starts to feel something for him.\n",
      "\n",
      "The movie you recommended is:\n",
      "\n",
      "**노트북 (The Notebook)** \n",
      "\n",
      "Here's the information rearranged:\n",
      "\n",
      " \n",
      "* **감독:** 닉 카사베츠\n",
      "* **장르:** 로맨스, 멜로, 드라마\n",
      "* **출연:** 라이언 고슬링, 레이철 맥아담스\n",
      "* **내용:** 가난한 집안 출신의 노아(라이언 고슬링)와 부유한 집안의 앨리(레이철 맥아담스)는 여름 캠프에서 처음 만나 서로에게 반해 첫사랑에 빠진다. 노아는 앨리에게 편지를 써보내지만 앨리의 어머니는 노아의 편지를 앨리에게 전해주지 않는다. 노아는 앨리를 만나기 위해 앨리의 집에 찾아가지만, 앨리는 노아를 기억하지 못한다. 노아는 앨리와의 추억을 되살리기 위해 노력하고, 앨리는 노아에 대한 감정을 느끼게 된다.\n",
      "\n",
      "The movie \"**노트북 (The Notebook)**\" is a romantic drama that tells the story of two young lovers who are separated by social class, but find their way back to each other years later. The film features a beautiful love story that has captured the hearts of many viewers.\n"
     ]
    }
   ],
   "source": [
    "# 체인 2: 줄거리 요약 (입력: 영화 제목 → 출력: 줄거리)\n",
    "chain2 = (\n",
    "    {\"movie\": chain1}  # chain1의 출력을 movie 변수로 전달\n",
    "    | prompt2\n",
    "    | llm\n",
    "    | StrOutputParser()\n",
    ")\n",
    "print(chain2)\n",
    "\n",
    "# 실행: \"SF\" 장르의 영화 추천 및 줄거리 요약\n",
    "response = chain2.invoke({\"genre\": \"Drama\"})\n",
    "print(\"\\n🔹 영화 줄거리 요약:\\n\", response) "
   ]
  },
  {
   "cell_type": "markdown",
   "id": "bcb684fd",
   "metadata": {},
   "source": [
    "##### chain1과 chain2에서 영화 제목이 일관되게 전달 되도록 변경"
   ]
  },
  {
   "cell_type": "code",
   "execution_count": 19,
   "id": "e30883ee",
   "metadata": {},
   "outputs": [
    {
     "name": "stdout",
     "output_type": "stream",
     "text": [
      "\n",
      "🔹 영화 줄거리 요약:\n",
      "('**버드맼**  \\n'\n",
      " '(Birdman or (The Unexpected Virtue of Ignorance), 2014)\\n'\n",
      " '\\n'\n",
      " '제목: 버드맨  \\n'\n",
      " '감독: 알레한드로 곤잘레스 이니아리투  \\n'\n",
      " '캐스팅: 마이클 키튼, 에드워드 노튼, 엠마 스톤, 나오미 왓츠, 잉글랜드 허트  \\n'\n",
      " '줄거리: 슈퍼히어로 ‘버드맨’으로 전성기를 보냈던 배우 리건은 브로드웨이 무대에서 연극로 재기를 꿈꾼다.  \\n'\n",
      " '촬영·조명·무대 연출까지 한 테이크처럼 이어지는 카메라워크 속에서 리건은 배우·감독·제작자로서 모든 것을 책임져야 하고, 무대 위·밖에서 '\n",
      " '자신의 존재 가치를 증명하려 애쓴다.  \\n'\n",
      " '현실과 무대·환상이 뒤섞이며 이어지는 하루하루, 배우·평론가·가족 간의 충돌이 고조되고 극장 개막을 앞둔 그는 극단적인 선택을 하게 '\n",
      " '되는데…')\n"
     ]
    }
   ],
   "source": [
    "from langchain_core.prompts import ChatPromptTemplate\n",
    "from langchain_openai import ChatOpenAI\n",
    "from langchain_core.output_parsers import StrOutputParser\n",
    "\n",
    "from pprint import pprint\n",
    "\n",
    "# Step 1: 사용자가 입력한 장르에 따라 영화 추천\n",
    "prompt1 = ChatPromptTemplate.from_template(\"{genre} 장르에서 추천할 만한 영화를 한 편 알려주세요.\")\n",
    "\n",
    "# Step 2: 추천된 영화의 줄거리를 요약\n",
    "prompt2 = ChatPromptTemplate.from_template(\"{movie} 추천한 영화의 제목을 먼저 알려주시고, 줄을 바꾸어서 영화의 정보(제목,감독,캐스팅,줄거리)를 알려 주세요.\")\n",
    "\n",
    "# OpenAI 모델 사용\n",
    "llm = ChatOpenAI(\n",
    "    api_key=OPENAI_API_KEY,\n",
    "    base_url=\"https://api.groq.com/openai/v1\",  # Groq API 엔드포인트\n",
    "    #model=\"meta-llama/llama-4-scout-17b-16e-instruct\",  # Spring AI와 동일한 모델\n",
    "    model=\"moonshotai/kimi-k2-instruct-0905\",\n",
    "    temperature=0.7\n",
    ")\n",
    "\n",
    "# 체인 1: 영화 추천 (입력: 장르 → 출력: 영화 제목)\n",
    "chain1 = prompt1 | llm | StrOutputParser()\n",
    "\n",
    "# 체인 2: 줄거리 요약 (입력: 영화 제목 → 출력: 줄거리)\n",
    "chain2 = (\n",
    "    {\"movie\": chain1}  # chain1의 출력을 movie 변수로 전달\n",
    "    | prompt2\n",
    "    | llm\n",
    "    | StrOutputParser()\n",
    ")\n",
    "\n",
    "# 실행: \"Drama\" 장르의 영화 추천 및 줄거리 요약\n",
    "response = chain2.invoke({\"genre\": \"Drama\"})\n",
    "print(\"\\n🔹 영화 줄거리 요약:\")\n",
    "pprint(response)"
   ]
  }
 ],
 "metadata": {
  "colab": {
   "provenance": [],
   "toc_visible": true
  },
  "kernelspec": {
   "display_name": "mylangchain-app-SBe-Yh6W-py3.12",
   "language": "python",
   "name": "python3"
  },
  "language_info": {
   "codemirror_mode": {
    "name": "ipython",
    "version": 3
   },
   "file_extension": ".py",
   "mimetype": "text/x-python",
   "name": "python",
   "nbconvert_exporter": "python",
   "pygments_lexer": "ipython3",
   "version": "3.12.7"
  }
 },
 "nbformat": 4,
 "nbformat_minor": 5
}
